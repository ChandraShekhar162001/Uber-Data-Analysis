{
  "nbformat": 4,
  "nbformat_minor": 5,
  "metadata": {
    "kernelspec": {
      "display_name": "Python 3",
      "language": "python",
      "name": "python3"
    },
    "language_info": {
      "codemirror_mode": {
        "name": "ipython",
        "version": 3
      },
      "file_extension": ".py",
      "mimetype": "text/x-python",
      "name": "python",
      "nbconvert_exporter": "python",
      "pygments_lexer": "ipython3",
      "version": "3.7.10"
    },
    "papermill": {
      "default_parameters": {},
      "duration": 34.519249,
      "end_time": "2021-10-03T14:03:55.724054",
      "environment_variables": {},
      "exception": null,
      "input_path": "__notebook__.ipynb",
      "output_path": "__notebook__.ipynb",
      "parameters": {},
      "start_time": "2021-10-03T14:03:21.204805",
      "version": "2.3.3"
    },
    "colab": {
      "name": "Uber Data Analysis.ipynb",
      "provenance": []
    }
  },
  "cells": [
    {
      "cell_type": "markdown",
      "metadata": {
        "papermill": {
          "duration": 0.056369,
          "end_time": "2021-10-03T14:03:29.453033",
          "exception": false,
          "start_time": "2021-10-03T14:03:29.396664",
          "status": "completed"
        },
        "tags": [],
        "id": "3175e383"
      },
      "source": [
        "### Dataset Description: \n",
        " > **The dataset contains Start Date, End Date, Start Location, End Location, Miles Driven and Purpose of drive (Business, Personal, Meals, Errands, Meetings, Customer Support etc.)**"
      ],
      "id": "3175e383"
    },
    {
      "cell_type": "markdown",
      "metadata": {
        "papermill": {
          "duration": 0.057931,
          "end_time": "2021-10-03T14:03:29.569743",
          "exception": false,
          "start_time": "2021-10-03T14:03:29.511812",
          "status": "completed"
        },
        "tags": [],
        "id": "140d5cdb"
      },
      "source": [
        "#### Import Libraries"
      ],
      "id": "140d5cdb"
    },
    {
      "cell_type": "code",
      "metadata": {
        "execution": {
          "iopub.execute_input": "2021-10-03T14:03:29.695581Z",
          "iopub.status.busy": "2021-10-03T14:03:29.694899Z",
          "iopub.status.idle": "2021-10-03T14:03:30.540789Z",
          "shell.execute_reply": "2021-10-03T14:03:30.541702Z",
          "shell.execute_reply.started": "2021-10-03T11:27:42.939696Z"
        },
        "papermill": {
          "duration": 0.915767,
          "end_time": "2021-10-03T14:03:30.542061",
          "exception": false,
          "start_time": "2021-10-03T14:03:29.626294",
          "status": "completed"
        },
        "tags": [],
        "id": "5ca74916"
      },
      "source": [
        "# Analysis and Mathematical  Libraries\n",
        "import numpy as np\n",
        "\n",
        "import pandas as pd\n",
        "\n",
        "# Visualizations Libraries\n",
        "\n",
        "import matplotlib.pyplot as plt\n",
        "%matplotlib inline\n",
        "\n",
        "import seaborn as sns\n",
        "\n",
        "# DateTime Libraries\n",
        "import time, datetime\n",
        "\n",
        "# Escape Warnings\n",
        "\n",
        "import warnings\n",
        "warnings.filterwarnings('ignore')"
      ],
      "id": "5ca74916",
      "execution_count": 2,
      "outputs": []
    },
    {
      "cell_type": "markdown",
      "metadata": {
        "papermill": {
          "duration": 0.060104,
          "end_time": "2021-10-03T14:03:30.676270",
          "exception": false,
          "start_time": "2021-10-03T14:03:30.616166",
          "status": "completed"
        },
        "tags": [],
        "id": "7e341c54"
      },
      "source": [
        "### Exploratory data analysis (EDA)"
      ],
      "id": "7e341c54"
    },
    {
      "cell_type": "markdown",
      "metadata": {
        "papermill": {
          "duration": 0.056293,
          "end_time": "2021-10-03T14:03:30.789388",
          "exception": false,
          "start_time": "2021-10-03T14:03:30.733095",
          "status": "completed"
        },
        "tags": [],
        "id": "d34ca154"
      },
      "source": [
        "- **head()**Understand your data using the head() function to look at the first few rows.\n",
        "- **shape()**Review the dimensions of your data with the shape property.\n",
        "- **info()**To know the information aboutvthe data\n",
        "- **Dtyes** Look at the data types for each attribute with the dtypes property.\n",
        "- **describe**Review the distribution of your data with the describe() function.\n",
        "- **Correlation** Calculate pairwise correlation between your variables using the corr() function."
      ],
      "id": "d34ca154"
    },
    {
      "cell_type": "code",
      "metadata": {
        "execution": {
          "iopub.execute_input": "2021-10-03T14:03:30.908712Z",
          "iopub.status.busy": "2021-10-03T14:03:30.906337Z",
          "iopub.status.idle": "2021-10-03T14:03:30.950037Z",
          "shell.execute_reply": "2021-10-03T14:03:30.950557Z",
          "shell.execute_reply.started": "2021-10-03T11:27:42.95055Z"
        },
        "papermill": {
          "duration": 0.103935,
          "end_time": "2021-10-03T14:03:30.950721",
          "exception": false,
          "start_time": "2021-10-03T14:03:30.846786",
          "status": "completed"
        },
        "tags": [],
        "colab": {
          "base_uri": "https://localhost:8080/",
          "height": 142
        },
        "id": "c1ba3f79",
        "outputId": "02ffb15e-329c-4896-abb5-b827dd26ca8e"
      },
      "source": [
        "df = pd.read_csv(\"Uber Data analysis.csv\",encoding='latin1')\n",
        "df.head(3)"
      ],
      "id": "c1ba3f79",
      "execution_count": 6,
      "outputs": [
        {
          "output_type": "execute_result",
          "data": {
            "text/html": [
              "<div>\n",
              "<style scoped>\n",
              "    .dataframe tbody tr th:only-of-type {\n",
              "        vertical-align: middle;\n",
              "    }\n",
              "\n",
              "    .dataframe tbody tr th {\n",
              "        vertical-align: top;\n",
              "    }\n",
              "\n",
              "    .dataframe thead th {\n",
              "        text-align: right;\n",
              "    }\n",
              "</style>\n",
              "<table border=\"1\" class=\"dataframe\">\n",
              "  <thead>\n",
              "    <tr style=\"text-align: right;\">\n",
              "      <th></th>\n",
              "      <th>START_DATE*</th>\n",
              "      <th>END_DATE*</th>\n",
              "      <th>CATEGORY*</th>\n",
              "      <th>START*</th>\n",
              "      <th>STOP*</th>\n",
              "      <th>MILES*</th>\n",
              "      <th>PURPOSE*</th>\n",
              "    </tr>\n",
              "  </thead>\n",
              "  <tbody>\n",
              "    <tr>\n",
              "      <th>0</th>\n",
              "      <td>1/1/2016 21:11</td>\n",
              "      <td>1/1/2016 21:17</td>\n",
              "      <td>Business</td>\n",
              "      <td>Fort Pierce</td>\n",
              "      <td>Fort Pierce</td>\n",
              "      <td>5.1</td>\n",
              "      <td>Meal/Entertain</td>\n",
              "    </tr>\n",
              "    <tr>\n",
              "      <th>1</th>\n",
              "      <td>1/2/2016 1:25</td>\n",
              "      <td>1/2/2016 1:37</td>\n",
              "      <td>Business</td>\n",
              "      <td>Fort Pierce</td>\n",
              "      <td>Fort Pierce</td>\n",
              "      <td>5.0</td>\n",
              "      <td>NaN</td>\n",
              "    </tr>\n",
              "    <tr>\n",
              "      <th>2</th>\n",
              "      <td>1/2/2016 20:25</td>\n",
              "      <td>1/2/2016 20:38</td>\n",
              "      <td>Business</td>\n",
              "      <td>Fort Pierce</td>\n",
              "      <td>Fort Pierce</td>\n",
              "      <td>4.8</td>\n",
              "      <td>Errand/Supplies</td>\n",
              "    </tr>\n",
              "  </tbody>\n",
              "</table>\n",
              "</div>"
            ],
            "text/plain": [
              "      START_DATE*       END_DATE*  ... MILES*         PURPOSE*\n",
              "0  1/1/2016 21:11  1/1/2016 21:17  ...    5.1   Meal/Entertain\n",
              "1   1/2/2016 1:25   1/2/2016 1:37  ...    5.0              NaN\n",
              "2  1/2/2016 20:25  1/2/2016 20:38  ...    4.8  Errand/Supplies\n",
              "\n",
              "[3 rows x 7 columns]"
            ]
          },
          "metadata": {},
          "execution_count": 6
        }
      ]
    },
    {
      "cell_type": "markdown",
      "metadata": {
        "papermill": {
          "duration": 0.059235,
          "end_time": "2021-10-03T14:03:31.068801",
          "exception": false,
          "start_time": "2021-10-03T14:03:31.009566",
          "status": "completed"
        },
        "tags": [],
        "id": "cf9c44f1"
      },
      "source": [
        "**Here we can see that, Columns having special characters  we must remove special characters like '*'.**\n"
      ],
      "id": "cf9c44f1"
    },
    {
      "cell_type": "code",
      "metadata": {
        "execution": {
          "iopub.execute_input": "2021-10-03T14:03:31.187671Z",
          "iopub.status.busy": "2021-10-03T14:03:31.186679Z",
          "iopub.status.idle": "2021-10-03T14:03:31.194066Z",
          "shell.execute_reply": "2021-10-03T14:03:31.193508Z",
          "shell.execute_reply.started": "2021-10-03T11:27:42.998091Z"
        },
        "papermill": {
          "duration": 0.067663,
          "end_time": "2021-10-03T14:03:31.194209",
          "exception": false,
          "start_time": "2021-10-03T14:03:31.126546",
          "status": "completed"
        },
        "tags": [],
        "id": "505906d2"
      },
      "source": [
        "df.columns = df.columns.str.replace(\"*\",\"\")"
      ],
      "id": "505906d2",
      "execution_count": 7,
      "outputs": []
    },
    {
      "cell_type": "code",
      "metadata": {
        "execution": {
          "iopub.execute_input": "2021-10-03T14:03:31.321139Z",
          "iopub.status.busy": "2021-10-03T14:03:31.320400Z",
          "iopub.status.idle": "2021-10-03T14:03:31.323643Z",
          "shell.execute_reply": "2021-10-03T14:03:31.324121Z",
          "shell.execute_reply.started": "2021-10-03T11:27:43.006886Z"
        },
        "papermill": {
          "duration": 0.073212,
          "end_time": "2021-10-03T14:03:31.324293",
          "exception": false,
          "start_time": "2021-10-03T14:03:31.251081",
          "status": "completed"
        },
        "tags": [],
        "colab": {
          "base_uri": "https://localhost:8080/",
          "height": 80
        },
        "id": "9f2d63be",
        "outputId": "dc808a38-5a11-49f1-8e56-24fe7666ce8a"
      },
      "source": [
        "df.tail(1)"
      ],
      "id": "9f2d63be",
      "execution_count": 8,
      "outputs": [
        {
          "output_type": "execute_result",
          "data": {
            "text/html": [
              "<div>\n",
              "<style scoped>\n",
              "    .dataframe tbody tr th:only-of-type {\n",
              "        vertical-align: middle;\n",
              "    }\n",
              "\n",
              "    .dataframe tbody tr th {\n",
              "        vertical-align: top;\n",
              "    }\n",
              "\n",
              "    .dataframe thead th {\n",
              "        text-align: right;\n",
              "    }\n",
              "</style>\n",
              "<table border=\"1\" class=\"dataframe\">\n",
              "  <thead>\n",
              "    <tr style=\"text-align: right;\">\n",
              "      <th></th>\n",
              "      <th>START_DATE</th>\n",
              "      <th>END_DATE</th>\n",
              "      <th>CATEGORY</th>\n",
              "      <th>START</th>\n",
              "      <th>STOP</th>\n",
              "      <th>MILES</th>\n",
              "      <th>PURPOSE</th>\n",
              "    </tr>\n",
              "  </thead>\n",
              "  <tbody>\n",
              "    <tr>\n",
              "      <th>1155</th>\n",
              "      <td>Totals</td>\n",
              "      <td>NaN</td>\n",
              "      <td>NaN</td>\n",
              "      <td>NaN</td>\n",
              "      <td>NaN</td>\n",
              "      <td>12204.7</td>\n",
              "      <td>NaN</td>\n",
              "    </tr>\n",
              "  </tbody>\n",
              "</table>\n",
              "</div>"
            ],
            "text/plain": [
              "     START_DATE END_DATE CATEGORY START STOP    MILES PURPOSE\n",
              "1155     Totals      NaN      NaN   NaN  NaN  12204.7     NaN"
            ]
          },
          "metadata": {},
          "execution_count": 8
        }
      ]
    },
    {
      "cell_type": "code",
      "metadata": {
        "execution": {
          "iopub.execute_input": "2021-10-03T14:03:31.444764Z",
          "iopub.status.busy": "2021-10-03T14:03:31.444084Z",
          "iopub.status.idle": "2021-10-03T14:03:31.466808Z",
          "shell.execute_reply": "2021-10-03T14:03:31.466252Z",
          "shell.execute_reply.started": "2021-10-03T11:27:43.034562Z"
        },
        "papermill": {
          "duration": 0.084637,
          "end_time": "2021-10-03T14:03:31.466960",
          "exception": false,
          "start_time": "2021-10-03T14:03:31.382323",
          "status": "completed"
        },
        "tags": [],
        "colab": {
          "base_uri": "https://localhost:8080/"
        },
        "id": "f5465857",
        "outputId": "66529b49-4bad-494e-ac3f-c6c472aad173"
      },
      "source": [
        "df.info()"
      ],
      "id": "f5465857",
      "execution_count": 9,
      "outputs": [
        {
          "output_type": "stream",
          "name": "stdout",
          "text": [
            "<class 'pandas.core.frame.DataFrame'>\n",
            "RangeIndex: 1156 entries, 0 to 1155\n",
            "Data columns (total 7 columns):\n",
            " #   Column      Non-Null Count  Dtype  \n",
            "---  ------      --------------  -----  \n",
            " 0   START_DATE  1156 non-null   object \n",
            " 1   END_DATE    1155 non-null   object \n",
            " 2   CATEGORY    1155 non-null   object \n",
            " 3   START       1155 non-null   object \n",
            " 4   STOP        1155 non-null   object \n",
            " 5   MILES       1156 non-null   float64\n",
            " 6   PURPOSE     653 non-null    object \n",
            "dtypes: float64(1), object(6)\n",
            "memory usage: 63.3+ KB\n"
          ]
        }
      ]
    },
    {
      "cell_type": "markdown",
      "metadata": {
        "papermill": {
          "duration": 0.057897,
          "end_time": "2021-10-03T14:03:31.582859",
          "exception": false,
          "start_time": "2021-10-03T14:03:31.524962",
          "status": "completed"
        },
        "tags": [],
        "id": "48f8e7a9"
      },
      "source": [
        "**Above information says Miles is float tye and rest of columns are objective**"
      ],
      "id": "48f8e7a9"
    },
    {
      "cell_type": "code",
      "metadata": {
        "execution": {
          "iopub.execute_input": "2021-10-03T14:03:31.707499Z",
          "iopub.status.busy": "2021-10-03T14:03:31.706794Z",
          "iopub.status.idle": "2021-10-03T14:03:31.709308Z",
          "shell.execute_reply": "2021-10-03T14:03:31.709838Z",
          "shell.execute_reply.started": "2021-10-03T11:27:43.050974Z"
        },
        "papermill": {
          "duration": 0.066433,
          "end_time": "2021-10-03T14:03:31.710012",
          "exception": false,
          "start_time": "2021-10-03T14:03:31.643579",
          "status": "completed"
        },
        "tags": [],
        "colab": {
          "base_uri": "https://localhost:8080/"
        },
        "id": "06c36ff9",
        "outputId": "bdcf4ce8-7921-474d-f9b3-429d4aa35715"
      },
      "source": [
        "df.shape"
      ],
      "id": "06c36ff9",
      "execution_count": 10,
      "outputs": [
        {
          "output_type": "execute_result",
          "data": {
            "text/plain": [
              "(1156, 7)"
            ]
          },
          "metadata": {},
          "execution_count": 10
        }
      ]
    },
    {
      "cell_type": "code",
      "metadata": {
        "execution": {
          "iopub.execute_input": "2021-10-03T14:03:31.833890Z",
          "iopub.status.busy": "2021-10-03T14:03:31.833230Z",
          "iopub.status.idle": "2021-10-03T14:03:31.838964Z",
          "shell.execute_reply": "2021-10-03T14:03:31.838382Z",
          "shell.execute_reply.started": "2021-10-03T11:27:43.061974Z"
        },
        "papermill": {
          "duration": 0.070468,
          "end_time": "2021-10-03T14:03:31.839099",
          "exception": false,
          "start_time": "2021-10-03T14:03:31.768631",
          "status": "completed"
        },
        "tags": [],
        "colab": {
          "base_uri": "https://localhost:8080/"
        },
        "id": "174c0e96",
        "outputId": "a6ef44a8-6b1e-48cf-d53e-de12de1cfd36"
      },
      "source": [
        "print(\"There are {} rows and {} columns are present in the Data Set\".format(df.shape[0],df.shape[1]))"
      ],
      "id": "174c0e96",
      "execution_count": 11,
      "outputs": [
        {
          "output_type": "stream",
          "name": "stdout",
          "text": [
            "There are 1156 rows and 7 columns are present in the Data Set\n"
          ]
        }
      ]
    },
    {
      "cell_type": "code",
      "metadata": {
        "execution": {
          "iopub.execute_input": "2021-10-03T14:03:31.972881Z",
          "iopub.status.busy": "2021-10-03T14:03:31.972110Z",
          "iopub.status.idle": "2021-10-03T14:03:31.975426Z",
          "shell.execute_reply": "2021-10-03T14:03:31.975917Z",
          "shell.execute_reply.started": "2021-10-03T11:27:43.076821Z"
        },
        "papermill": {
          "duration": 0.077957,
          "end_time": "2021-10-03T14:03:31.976092",
          "exception": false,
          "start_time": "2021-10-03T14:03:31.898135",
          "status": "completed"
        },
        "tags": [],
        "colab": {
          "base_uri": "https://localhost:8080/",
          "height": 297
        },
        "id": "2c861390",
        "outputId": "644b4aae-8968-4aef-da4d-fccfc6bd420c"
      },
      "source": [
        "df.describe()"
      ],
      "id": "2c861390",
      "execution_count": 12,
      "outputs": [
        {
          "output_type": "execute_result",
          "data": {
            "text/html": [
              "<div>\n",
              "<style scoped>\n",
              "    .dataframe tbody tr th:only-of-type {\n",
              "        vertical-align: middle;\n",
              "    }\n",
              "\n",
              "    .dataframe tbody tr th {\n",
              "        vertical-align: top;\n",
              "    }\n",
              "\n",
              "    .dataframe thead th {\n",
              "        text-align: right;\n",
              "    }\n",
              "</style>\n",
              "<table border=\"1\" class=\"dataframe\">\n",
              "  <thead>\n",
              "    <tr style=\"text-align: right;\">\n",
              "      <th></th>\n",
              "      <th>MILES</th>\n",
              "    </tr>\n",
              "  </thead>\n",
              "  <tbody>\n",
              "    <tr>\n",
              "      <th>count</th>\n",
              "      <td>1156.000000</td>\n",
              "    </tr>\n",
              "    <tr>\n",
              "      <th>mean</th>\n",
              "      <td>21.115398</td>\n",
              "    </tr>\n",
              "    <tr>\n",
              "      <th>std</th>\n",
              "      <td>359.299007</td>\n",
              "    </tr>\n",
              "    <tr>\n",
              "      <th>min</th>\n",
              "      <td>0.500000</td>\n",
              "    </tr>\n",
              "    <tr>\n",
              "      <th>25%</th>\n",
              "      <td>2.900000</td>\n",
              "    </tr>\n",
              "    <tr>\n",
              "      <th>50%</th>\n",
              "      <td>6.000000</td>\n",
              "    </tr>\n",
              "    <tr>\n",
              "      <th>75%</th>\n",
              "      <td>10.400000</td>\n",
              "    </tr>\n",
              "    <tr>\n",
              "      <th>max</th>\n",
              "      <td>12204.700000</td>\n",
              "    </tr>\n",
              "  </tbody>\n",
              "</table>\n",
              "</div>"
            ],
            "text/plain": [
              "              MILES\n",
              "count   1156.000000\n",
              "mean      21.115398\n",
              "std      359.299007\n",
              "min        0.500000\n",
              "25%        2.900000\n",
              "50%        6.000000\n",
              "75%       10.400000\n",
              "max    12204.700000"
            ]
          },
          "metadata": {},
          "execution_count": 12
        }
      ]
    },
    {
      "cell_type": "code",
      "metadata": {
        "execution": {
          "iopub.execute_input": "2021-10-03T14:03:32.100093Z",
          "iopub.status.busy": "2021-10-03T14:03:32.099043Z",
          "iopub.status.idle": "2021-10-03T14:03:32.107604Z",
          "shell.execute_reply": "2021-10-03T14:03:32.108229Z",
          "shell.execute_reply.started": "2021-10-03T11:27:43.098373Z"
        },
        "papermill": {
          "duration": 0.071332,
          "end_time": "2021-10-03T14:03:32.108394",
          "exception": false,
          "start_time": "2021-10-03T14:03:32.037062",
          "status": "completed"
        },
        "tags": [],
        "colab": {
          "base_uri": "https://localhost:8080/"
        },
        "id": "1fb59ef9",
        "outputId": "f407c22b-ebdd-4932-81fe-593b0fe35d87"
      },
      "source": [
        "df.isnull().sum()"
      ],
      "id": "1fb59ef9",
      "execution_count": 13,
      "outputs": [
        {
          "output_type": "execute_result",
          "data": {
            "text/plain": [
              "START_DATE      0\n",
              "END_DATE        1\n",
              "CATEGORY        1\n",
              "START           1\n",
              "STOP            1\n",
              "MILES           0\n",
              "PURPOSE       503\n",
              "dtype: int64"
            ]
          },
          "metadata": {},
          "execution_count": 13
        }
      ]
    },
    {
      "cell_type": "code",
      "metadata": {
        "execution": {
          "iopub.execute_input": "2021-10-03T14:03:32.231281Z",
          "iopub.status.busy": "2021-10-03T14:03:32.230259Z",
          "iopub.status.idle": "2021-10-03T14:03:32.424096Z",
          "shell.execute_reply": "2021-10-03T14:03:32.424805Z",
          "shell.execute_reply.started": "2021-10-03T11:27:43.200405Z"
        },
        "papermill": {
          "duration": 0.256765,
          "end_time": "2021-10-03T14:03:32.424986",
          "exception": false,
          "start_time": "2021-10-03T14:03:32.168221",
          "status": "completed"
        },
        "tags": [],
        "colab": {
          "base_uri": "https://localhost:8080/",
          "height": 321
        },
        "id": "0d2e361a",
        "outputId": "59c7cf47-f2d8-4bc0-cc50-bafcb17fbb72"
      },
      "source": [
        "#visualizing the null values for each attribute\n",
        "plt.figure(figsize=(10,5)) \n",
        "sns.heatmap(df.isnull(),cmap='magma',yticklabels=False,cbar=False)\n",
        "plt.show()"
      ],
      "id": "0d2e361a",
      "execution_count": 14,
      "outputs": [
        {
          "output_type": "display_data",
          "data": {
            "image/png": "[encoded data removed]",
            "text/plain": [
              "<Figure size 720x360 with 1 Axes>"
            ]
          },
          "metadata": {
            "needs_background": "light"
          }
        }
      ]
    },
    {
      "cell_type": "code",
      "metadata": {
        "execution": {
          "iopub.execute_input": "2021-10-03T14:03:32.549403Z",
          "iopub.status.busy": "2021-10-03T14:03:32.548452Z",
          "iopub.status.idle": "2021-10-03T14:03:33.368183Z",
          "shell.execute_reply": "2021-10-03T14:03:33.368689Z",
          "shell.execute_reply.started": "2021-10-03T11:27:43.381052Z"
        },
        "papermill": {
          "duration": 0.883528,
          "end_time": "2021-10-03T14:03:33.368878",
          "exception": false,
          "start_time": "2021-10-03T14:03:32.485350",
          "status": "completed"
        },
        "tags": [],
        "colab": {
          "base_uri": "https://localhost:8080/",
          "height": 456
        },
        "id": "d1b49275",
        "outputId": "0d6687de-fcbd-42a3-93f2-4b9e8380aa8b"
      },
      "source": [
        "#visualizing the null values for each attribute\n",
        "\n",
        "\n",
        "import missingno as msno\n",
        "\n",
        "msno.bar(df)\n",
        "plt.show()"
      ],
      "id": "d1b49275",
      "execution_count": 15,
      "outputs": [
        {
          "output_type": "display_data",
          "data": {
            "image/png": "[encoded data removed]",
            "text/plain": [
              "<Figure size 1800x720 with 3 Axes>"
            ]
          },
          "metadata": {
            "needs_background": "light"
          }
        }
      ]
    },
    {
      "cell_type": "code",
      "metadata": {
        "execution": {
          "iopub.execute_input": "2021-10-03T14:03:33.506869Z",
          "iopub.status.busy": "2021-10-03T14:03:33.506061Z",
          "iopub.status.idle": "2021-10-03T14:03:33.509642Z",
          "shell.execute_reply": "2021-10-03T14:03:33.510084Z",
          "shell.execute_reply.started": "2021-10-03T11:27:44.253566Z"
        },
        "papermill": {
          "duration": 0.079365,
          "end_time": "2021-10-03T14:03:33.510268",
          "exception": false,
          "start_time": "2021-10-03T14:03:33.430903",
          "status": "completed"
        },
        "tags": [],
        "colab": {
          "base_uri": "https://localhost:8080/"
        },
        "id": "7a147ec2",
        "outputId": "e56a2e84-b0c6-4883-c092-6f3248ad1df1"
      },
      "source": [
        "null_columns=df.columns[df.isnull().any()]\n",
        "df[null_columns].isnull().sum()"
      ],
      "id": "7a147ec2",
      "execution_count": 16,
      "outputs": [
        {
          "output_type": "execute_result",
          "data": {
            "text/plain": [
              "END_DATE      1\n",
              "CATEGORY      1\n",
              "START         1\n",
              "STOP          1\n",
              "PURPOSE     503\n",
              "dtype: int64"
            ]
          },
          "metadata": {},
          "execution_count": 16
        }
      ]
    },
    {
      "cell_type": "code",
      "metadata": {
        "execution": {
          "iopub.execute_input": "2021-10-03T14:03:33.638111Z",
          "iopub.status.busy": "2021-10-03T14:03:33.637080Z",
          "iopub.status.idle": "2021-10-03T14:03:33.645199Z",
          "shell.execute_reply": "2021-10-03T14:03:33.644639Z",
          "shell.execute_reply.started": "2021-10-03T11:27:44.267429Z"
        },
        "papermill": {
          "duration": 0.07286,
          "end_time": "2021-10-03T14:03:33.645338",
          "exception": false,
          "start_time": "2021-10-03T14:03:33.572478",
          "status": "completed"
        },
        "tags": [],
        "id": "1d723572"
      },
      "source": [
        "df.drop(index = 1155, axis = 0, inplace = True)"
      ],
      "id": "1d723572",
      "execution_count": 17,
      "outputs": []
    },
    {
      "cell_type": "code",
      "metadata": {
        "execution": {
          "iopub.execute_input": "2021-10-03T14:03:33.780768Z",
          "iopub.status.busy": "2021-10-03T14:03:33.779874Z",
          "iopub.status.idle": "2021-10-03T14:03:33.783727Z",
          "shell.execute_reply": "2021-10-03T14:03:33.783120Z",
          "shell.execute_reply.started": "2021-10-03T11:27:44.286535Z"
        },
        "papermill": {
          "duration": 0.07528,
          "end_time": "2021-10-03T14:03:33.783886",
          "exception": false,
          "start_time": "2021-10-03T14:03:33.708606",
          "status": "completed"
        },
        "tags": [],
        "id": "6ce20bd8",
        "outputId": "48b042bd-1c2e-49d0-c664-beda93d6eb7d"
      },
      "source": [
        "df.isnull().sum()"
      ],
      "id": "6ce20bd8",
      "execution_count": null,
      "outputs": [
        {
          "data": {
            "text/plain": [
              "START_DATE      0\n",
              "END_DATE        0\n",
              "CATEGORY        0\n",
              "START           0\n",
              "STOP            0\n",
              "MILES           0\n",
              "PURPOSE       502\n",
              "dtype: int64"
            ]
          },
          "execution_count": 14,
          "metadata": {},
          "output_type": "execute_result"
        }
      ]
    },
    {
      "cell_type": "code",
      "metadata": {
        "execution": {
          "iopub.execute_input": "2021-10-03T14:03:33.913335Z",
          "iopub.status.busy": "2021-10-03T14:03:33.912722Z",
          "iopub.status.idle": "2021-10-03T14:03:33.918930Z",
          "shell.execute_reply": "2021-10-03T14:03:33.919411Z",
          "shell.execute_reply.started": "2021-10-03T11:27:44.304585Z"
        },
        "papermill": {
          "duration": 0.073436,
          "end_time": "2021-10-03T14:03:33.919603",
          "exception": false,
          "start_time": "2021-10-03T14:03:33.846167",
          "status": "completed"
        },
        "tags": [],
        "colab": {
          "base_uri": "https://localhost:8080/"
        },
        "id": "c53df814",
        "outputId": "3c1deb09-0563-44a9-b19f-7b238558fb19"
      },
      "source": [
        "df[\"PURPOSE\"].isnull().sum()/len(df)"
      ],
      "id": "c53df814",
      "execution_count": 18,
      "outputs": [
        {
          "output_type": "execute_result",
          "data": {
            "text/plain": [
              "0.43463203463203465"
            ]
          },
          "metadata": {},
          "execution_count": 18
        }
      ]
    },
    {
      "cell_type": "markdown",
      "metadata": {
        "papermill": {
          "duration": 0.06531,
          "end_time": "2021-10-03T14:03:34.049088",
          "exception": false,
          "start_time": "2021-10-03T14:03:33.983778",
          "status": "completed"
        },
        "tags": [],
        "id": "0bc6bf6f"
      },
      "source": [
        "**Here we can see that 43% of null values present in the dataset in PURPOSE COLUMN.**"
      ],
      "id": "0bc6bf6f"
    },
    {
      "cell_type": "markdown",
      "metadata": {
        "papermill": {
          "duration": 0.06265,
          "end_time": "2021-10-03T14:03:34.175561",
          "exception": false,
          "start_time": "2021-10-03T14:03:34.112911",
          "status": "completed"
        },
        "tags": [],
        "id": "597a1113"
      },
      "source": [
        "**Above Purpose column has 502 null values its a categorial**"
      ],
      "id": "597a1113"
    },
    {
      "cell_type": "code",
      "metadata": {
        "execution": {
          "iopub.execute_input": "2021-10-03T14:03:34.304825Z",
          "iopub.status.busy": "2021-10-03T14:03:34.304181Z",
          "iopub.status.idle": "2021-10-03T14:03:34.313086Z",
          "shell.execute_reply": "2021-10-03T14:03:34.312563Z",
          "shell.execute_reply.started": "2021-10-03T11:27:44.324315Z"
        },
        "papermill": {
          "duration": 0.074399,
          "end_time": "2021-10-03T14:03:34.313231",
          "exception": false,
          "start_time": "2021-10-03T14:03:34.238832",
          "status": "completed"
        },
        "tags": [],
        "id": "ec92db14"
      },
      "source": [
        "# filling a null values using fillna() \n",
        "#ffill means forwadrd fill   (  non-null values forward)\n",
        "df[\"PURPOSE\"].fillna(method='ffill', inplace = True) "
      ],
      "id": "ec92db14",
      "execution_count": 19,
      "outputs": []
    },
    {
      "cell_type": "code",
      "metadata": {
        "execution": {
          "iopub.execute_input": "2021-10-03T14:03:34.451382Z",
          "iopub.status.busy": "2021-10-03T14:03:34.445612Z",
          "iopub.status.idle": "2021-10-03T14:03:34.454477Z",
          "shell.execute_reply": "2021-10-03T14:03:34.454982Z",
          "shell.execute_reply.started": "2021-10-03T11:27:44.338799Z"
        },
        "papermill": {
          "duration": 0.078047,
          "end_time": "2021-10-03T14:03:34.455168",
          "exception": false,
          "start_time": "2021-10-03T14:03:34.377121",
          "status": "completed"
        },
        "tags": [],
        "colab": {
          "base_uri": "https://localhost:8080/"
        },
        "id": "8fec5d60",
        "outputId": "ee2b74ae-7626-4f4c-b7a4-ef7ebe437265"
      },
      "source": [
        "df.isnull().sum()\n"
      ],
      "id": "8fec5d60",
      "execution_count": 20,
      "outputs": [
        {
          "output_type": "execute_result",
          "data": {
            "text/plain": [
              "START_DATE    0\n",
              "END_DATE      0\n",
              "CATEGORY      0\n",
              "START         0\n",
              "STOP          0\n",
              "MILES         0\n",
              "PURPOSE       0\n",
              "dtype: int64"
            ]
          },
          "metadata": {},
          "execution_count": 20
        }
      ]
    },
    {
      "cell_type": "markdown",
      "metadata": {
        "papermill": {
          "duration": 0.062438,
          "end_time": "2021-10-03T14:03:34.580095",
          "exception": false,
          "start_time": "2021-10-03T14:03:34.517657",
          "status": "completed"
        },
        "tags": [],
        "id": "83038a56"
      },
      "source": [
        "\n",
        "### Lets calculate the duration, as there might be some relation of it to PURPOSE of Cab ride."
      ],
      "id": "83038a56"
    },
    {
      "cell_type": "code",
      "metadata": {
        "execution": {
          "iopub.execute_input": "2021-10-03T14:03:34.709895Z",
          "iopub.status.busy": "2021-10-03T14:03:34.709177Z",
          "iopub.status.idle": "2021-10-03T14:03:34.954421Z",
          "shell.execute_reply": "2021-10-03T14:03:34.953629Z",
          "shell.execute_reply.started": "2021-10-03T11:27:44.357454Z"
        },
        "papermill": {
          "duration": 0.311942,
          "end_time": "2021-10-03T14:03:34.954814",
          "exception": false,
          "start_time": "2021-10-03T14:03:34.642872",
          "status": "completed"
        },
        "tags": [],
        "colab": {
          "base_uri": "https://localhost:8080/"
        },
        "id": "0a9eea36",
        "outputId": "579e7c4d-b8d8-4097-8557-03855a83c353"
      },
      "source": [
        "df['START_DATE']= pd.to_datetime(df['START_DATE'],errors='coerce')\n",
        "df['END_DATE']= pd.to_datetime(df['END_DATE'],errors='coerce')\n",
        "df.info();\n",
        "\n",
        "\n",
        "# Now time object type changes to datetime"
      ],
      "id": "0a9eea36",
      "execution_count": 21,
      "outputs": [
        {
          "output_type": "stream",
          "name": "stdout",
          "text": [
            "<class 'pandas.core.frame.DataFrame'>\n",
            "Int64Index: 1155 entries, 0 to 1154\n",
            "Data columns (total 7 columns):\n",
            " #   Column      Non-Null Count  Dtype         \n",
            "---  ------      --------------  -----         \n",
            " 0   START_DATE  1155 non-null   datetime64[ns]\n",
            " 1   END_DATE    1155 non-null   datetime64[ns]\n",
            " 2   CATEGORY    1155 non-null   object        \n",
            " 3   START       1155 non-null   object        \n",
            " 4   STOP        1155 non-null   object        \n",
            " 5   MILES       1155 non-null   float64       \n",
            " 6   PURPOSE     1155 non-null   object        \n",
            "dtypes: datetime64[ns](2), float64(1), object(4)\n",
            "memory usage: 72.2+ KB\n"
          ]
        }
      ]
    },
    {
      "cell_type": "markdown",
      "metadata": {
        "papermill": {
          "duration": 0.063427,
          "end_time": "2021-10-03T14:03:35.084491",
          "exception": false,
          "start_time": "2021-10-03T14:03:35.021064",
          "status": "completed"
        },
        "tags": [],
        "id": "f3ac2513"
      },
      "source": [
        "**Only Numerical and float data can be describe. Here we can see the mean, median , mode, standard deviation**"
      ],
      "id": "f3ac2513"
    },
    {
      "cell_type": "code",
      "metadata": {
        "execution": {
          "iopub.execute_input": "2021-10-03T14:03:35.213767Z",
          "iopub.status.busy": "2021-10-03T14:03:35.213076Z",
          "iopub.status.idle": "2021-10-03T14:03:36.118561Z",
          "shell.execute_reply": "2021-10-03T14:03:36.119097Z",
          "shell.execute_reply.started": "2021-10-03T11:27:44.614536Z"
        },
        "papermill": {
          "duration": 0.972025,
          "end_time": "2021-10-03T14:03:36.119268",
          "exception": false,
          "start_time": "2021-10-03T14:03:35.147243",
          "status": "completed"
        },
        "tags": [],
        "colab": {
          "base_uri": "https://localhost:8080/",
          "height": 456
        },
        "id": "a5f810a7",
        "outputId": "fdc32452-a137-4407-aafa-72594ed00a67"
      },
      "source": [
        "import missingno as msno\n",
        "msno.bar(df)\n",
        "plt.show()"
      ],
      "id": "a5f810a7",
      "execution_count": 22,
      "outputs": [
        {
          "output_type": "display_data",
          "data": {
            "image/png": "[encoded data removed]",
            "text/plain": [
              "<Figure size 1800x720 with 3 Axes>"
            ]
          },
          "metadata": {
            "needs_background": "light"
          }
        }
      ]
    },
    {
      "cell_type": "markdown",
      "metadata": {
        "papermill": {
          "duration": 0.063779,
          "end_time": "2021-10-03T14:03:36.247277",
          "exception": false,
          "start_time": "2021-10-03T14:03:36.183498",
          "status": "completed"
        },
        "tags": [],
        "id": "c8c8c1f1"
      },
      "source": [
        "**Now you can see there is no missing values visually**"
      ],
      "id": "c8c8c1f1"
    },
    {
      "cell_type": "code",
      "metadata": {
        "execution": {
          "iopub.execute_input": "2021-10-03T14:03:36.379289Z",
          "iopub.status.busy": "2021-10-03T14:03:36.378626Z",
          "iopub.status.idle": "2021-10-03T14:03:36.383885Z",
          "shell.execute_reply": "2021-10-03T14:03:36.384367Z",
          "shell.execute_reply.started": "2021-10-03T11:27:45.459818Z"
        },
        "papermill": {
          "duration": 0.0732,
          "end_time": "2021-10-03T14:03:36.384589",
          "exception": false,
          "start_time": "2021-10-03T14:03:36.311389",
          "status": "completed"
        },
        "tags": [],
        "colab": {
          "base_uri": "https://localhost:8080/"
        },
        "id": "a14242d6",
        "outputId": "73decfae-dcd8-42bd-a044-d452c3ca259e"
      },
      "source": [
        "df.columns"
      ],
      "id": "a14242d6",
      "execution_count": 23,
      "outputs": [
        {
          "output_type": "execute_result",
          "data": {
            "text/plain": [
              "Index(['START_DATE', 'END_DATE', 'CATEGORY', 'START', 'STOP', 'MILES',\n",
              "       'PURPOSE'],\n",
              "      dtype='object')"
            ]
          },
          "metadata": {},
          "execution_count": 23
        }
      ]
    },
    {
      "cell_type": "markdown",
      "metadata": {
        "papermill": {
          "duration": 0.064361,
          "end_time": "2021-10-03T14:03:36.513510",
          "exception": false,
          "start_time": "2021-10-03T14:03:36.449149",
          "status": "completed"
        },
        "tags": [],
        "id": "2bf78a11"
      },
      "source": [
        "#### Start Date and End Date \n",
        "Since the Date and Time  of the start_date and end_date are of data type object we are converting it to datetime"
      ],
      "id": "2bf78a11"
    },
    {
      "cell_type": "code",
      "metadata": {
        "execution": {
          "iopub.execute_input": "2021-10-03T14:03:36.647202Z",
          "iopub.status.busy": "2021-10-03T14:03:36.646476Z",
          "iopub.status.idle": "2021-10-03T14:03:36.663573Z",
          "shell.execute_reply": "2021-10-03T14:03:36.664060Z",
          "shell.execute_reply.started": "2021-10-03T11:27:45.470433Z"
        },
        "papermill": {
          "duration": 0.086422,
          "end_time": "2021-10-03T14:03:36.664225",
          "exception": false,
          "start_time": "2021-10-03T14:03:36.577803",
          "status": "completed"
        },
        "tags": [],
        "colab": {
          "base_uri": "https://localhost:8080/"
        },
        "id": "3c35900f",
        "outputId": "b6bf8211-02e6-43ce-82b2-5c2777daf537"
      },
      "source": [
        "df['START_DATE']= pd.to_datetime(df['START_DATE'],errors='coerce')\n",
        "df['END_DATE']= pd.to_datetime(df['END_DATE'],errors='coerce')\n",
        "df.info();\n",
        "\n",
        "\n",
        "# Now time object type changes to datetime"
      ],
      "id": "3c35900f",
      "execution_count": 24,
      "outputs": [
        {
          "output_type": "stream",
          "name": "stdout",
          "text": [
            "<class 'pandas.core.frame.DataFrame'>\n",
            "Int64Index: 1155 entries, 0 to 1154\n",
            "Data columns (total 7 columns):\n",
            " #   Column      Non-Null Count  Dtype         \n",
            "---  ------      --------------  -----         \n",
            " 0   START_DATE  1155 non-null   datetime64[ns]\n",
            " 1   END_DATE    1155 non-null   datetime64[ns]\n",
            " 2   CATEGORY    1155 non-null   object        \n",
            " 3   START       1155 non-null   object        \n",
            " 4   STOP        1155 non-null   object        \n",
            " 5   MILES       1155 non-null   float64       \n",
            " 6   PURPOSE     1155 non-null   object        \n",
            "dtypes: datetime64[ns](2), float64(1), object(4)\n",
            "memory usage: 72.2+ KB\n"
          ]
        }
      ]
    },
    {
      "cell_type": "code",
      "metadata": {
        "execution": {
          "iopub.execute_input": "2021-10-03T14:03:36.802663Z",
          "iopub.status.busy": "2021-10-03T14:03:36.799286Z",
          "iopub.status.idle": "2021-10-03T14:03:37.032942Z",
          "shell.execute_reply": "2021-10-03T14:03:37.033555Z",
          "shell.execute_reply.started": "2021-10-03T11:27:45.50626Z"
        },
        "papermill": {
          "duration": 0.303944,
          "end_time": "2021-10-03T14:03:37.033724",
          "exception": false,
          "start_time": "2021-10-03T14:03:36.729780",
          "status": "completed"
        },
        "tags": [],
        "colab": {
          "base_uri": "https://localhost:8080/",
          "height": 439
        },
        "id": "1494dcbe",
        "outputId": "7ef90c98-7d38-41bb-8490-908d9d23e1c6"
      },
      "source": [
        "\n",
        "Category =pd.crosstab(index=df['CATEGORY'],columns='Count of travels as per category')\n",
        "\n",
        "Category.plot(kind='bar',color='r',alpha=0.7)\n",
        "plt.legend()\n",
        "Category\n"
      ],
      "id": "1494dcbe",
      "execution_count": 25,
      "outputs": [
        {
          "output_type": "execute_result",
          "data": {
            "text/html": [
              "<div>\n",
              "<style scoped>\n",
              "    .dataframe tbody tr th:only-of-type {\n",
              "        vertical-align: middle;\n",
              "    }\n",
              "\n",
              "    .dataframe tbody tr th {\n",
              "        vertical-align: top;\n",
              "    }\n",
              "\n",
              "    .dataframe thead th {\n",
              "        text-align: right;\n",
              "    }\n",
              "</style>\n",
              "<table border=\"1\" class=\"dataframe\">\n",
              "  <thead>\n",
              "    <tr style=\"text-align: right;\">\n",
              "      <th>col_0</th>\n",
              "      <th>Count of travels as per category</th>\n",
              "    </tr>\n",
              "    <tr>\n",
              "      <th>CATEGORY</th>\n",
              "      <th></th>\n",
              "    </tr>\n",
              "  </thead>\n",
              "  <tbody>\n",
              "    <tr>\n",
              "      <th>Business</th>\n",
              "      <td>1078</td>\n",
              "    </tr>\n",
              "    <tr>\n",
              "      <th>Personal</th>\n",
              "      <td>77</td>\n",
              "    </tr>\n",
              "  </tbody>\n",
              "</table>\n",
              "</div>"
            ],
            "text/plain": [
              "col_0     Count of travels as per category\n",
              "CATEGORY                                  \n",
              "Business                              1078\n",
              "Personal                                77"
            ]
          },
          "metadata": {},
          "execution_count": 25
        },
        {
          "output_type": "display_data",
          "data": {
            "image/png": "[encoded data removed]",
            "text/plain": [
              "<Figure size 432x288 with 1 Axes>"
            ]
          },
          "metadata": {
            "needs_background": "light"
          }
        }
      ]
    },
    {
      "cell_type": "markdown",
      "metadata": {
        "papermill": {
          "duration": 0.065729,
          "end_time": "2021-10-03T14:03:37.165478",
          "exception": false,
          "start_time": "2021-10-03T14:03:37.099749",
          "status": "completed"
        },
        "tags": [],
        "id": "f4457f81"
      },
      "source": [
        "### Which are the places have HIGHEST START points"
      ],
      "id": "f4457f81"
    },
    {
      "cell_type": "code",
      "metadata": {
        "execution": {
          "iopub.execute_input": "2021-10-03T14:03:37.335103Z",
          "iopub.status.busy": "2021-10-03T14:03:37.301099Z",
          "iopub.status.idle": "2021-10-03T14:03:37.688589Z",
          "shell.execute_reply": "2021-10-03T14:03:37.689037Z",
          "shell.execute_reply.started": "2021-10-03T11:27:45.768763Z"
        },
        "papermill": {
          "duration": 0.457565,
          "end_time": "2021-10-03T14:03:37.689227",
          "exception": false,
          "start_time": "2021-10-03T14:03:37.231662",
          "status": "completed"
        },
        "tags": [],
        "colab": {
          "base_uri": "https://localhost:8080/",
          "height": 586
        },
        "id": "b1dbdcb3",
        "outputId": "af8adc16-053b-4d96-a877-a3ec6004e047"
      },
      "source": [
        "Start_point = df.START.value_counts()\n",
        "Start_point\n",
        "print(Start_point[Start_point > 10])\n",
        "\n",
        "\n",
        "Start_point[Start_point > 10].plot(kind = \"pie\", shadow=True, startangle=190)\n",
        "plt.tight_layout()\n",
        "plt.show()\n"
      ],
      "id": "b1dbdcb3",
      "execution_count": 26,
      "outputs": [
        {
          "output_type": "stream",
          "name": "stdout",
          "text": [
            "Cary                201\n",
            "Unknown Location    148\n",
            "Morrisville          85\n",
            "Whitebridge          68\n",
            "Islamabad            57\n",
            "Durham               37\n",
            "Lahore               36\n",
            "Raleigh              28\n",
            "Kar?chi              27\n",
            "Apex                 17\n",
            "Westpark Place       17\n",
            "Berkeley             16\n",
            "Midtown              14\n",
            "Kissimmee            11\n",
            "R?walpindi           11\n",
            "Kenner               11\n",
            "Name: START, dtype: int64\n"
          ]
        },
        {
          "output_type": "display_data",
          "data": {
            "image/png": "[encoded data removed]",
            "text/plain": [
              "<Figure size 432x288 with 1 Axes>"
            ]
          },
          "metadata": {}
        }
      ]
    },
    {
      "cell_type": "markdown",
      "metadata": {
        "papermill": {
          "duration": 0.067473,
          "end_time": "2021-10-03T14:03:37.826316",
          "exception": false,
          "start_time": "2021-10-03T14:03:37.758843",
          "status": "completed"
        },
        "tags": [],
        "id": "dcce7953"
      },
      "source": [
        "**Above pie chart can understand that, Cary, Unknown Location Morrisville ,Whitebridge are highest satrting point**"
      ],
      "id": "dcce7953"
    },
    {
      "cell_type": "markdown",
      "metadata": {
        "papermill": {
          "duration": 0.069882,
          "end_time": "2021-10-03T14:03:37.964859",
          "exception": false,
          "start_time": "2021-10-03T14:03:37.894977",
          "status": "completed"
        },
        "tags": [],
        "id": "f713ffc2"
      },
      "source": [
        "### Which are the places are having LOWEST START point"
      ],
      "id": "f713ffc2"
    },
    {
      "cell_type": "code",
      "metadata": {
        "execution": {
          "iopub.execute_input": "2021-10-03T14:03:38.114053Z",
          "iopub.status.busy": "2021-10-03T14:03:38.113140Z",
          "iopub.status.idle": "2021-10-03T14:03:38.116981Z",
          "shell.execute_reply": "2021-10-03T14:03:38.117497Z",
          "shell.execute_reply.started": "2021-10-03T11:27:46.161658Z"
        },
        "papermill": {
          "duration": 0.081016,
          "end_time": "2021-10-03T14:03:38.117673",
          "exception": false,
          "start_time": "2021-10-03T14:03:38.036657",
          "status": "completed"
        },
        "tags": [],
        "colab": {
          "base_uri": "https://localhost:8080/"
        },
        "id": "531cde14",
        "outputId": "4b5a4f37-9307-4bc3-d36d-18709abd4683"
      },
      "source": [
        "Start_point = df.START.value_counts()\n",
        "Start_point\n",
        "Start_point[Start_point <=  10]"
      ],
      "id": "531cde14",
      "execution_count": 27,
      "outputs": [
        {
          "output_type": "execute_result",
          "data": {
            "text/plain": [
              "New Orleans                  10\n",
              "Emeryville                   10\n",
              "Downtown                      9\n",
              "San Francisco                 8\n",
              "Banner Elk                    8\n",
              "                             ..\n",
              "East Austin                   1\n",
              "Washington                    1\n",
              "Lower Garden District         1\n",
              "Arlington Park at Amberly     1\n",
              "Tribeca                       1\n",
              "Name: START, Length: 161, dtype: int64"
            ]
          },
          "metadata": {},
          "execution_count": 27
        }
      ]
    },
    {
      "cell_type": "markdown",
      "metadata": {
        "papermill": {
          "duration": 0.068593,
          "end_time": "2021-10-03T14:03:38.255203",
          "exception": false,
          "start_time": "2021-10-03T14:03:38.186610",
          "status": "completed"
        },
        "tags": [],
        "id": "ccae557a"
      },
      "source": [
        "\n",
        "\n",
        "**Above are start_pont are low number of starting points**"
      ],
      "id": "ccae557a"
    },
    {
      "cell_type": "markdown",
      "metadata": {
        "papermill": {
          "duration": 0.069105,
          "end_time": "2021-10-03T14:03:38.393142",
          "exception": false,
          "start_time": "2021-10-03T14:03:38.324037",
          "status": "completed"
        },
        "tags": [],
        "id": "88062292"
      },
      "source": [
        "### Which are the places are having HIGHEST STOP point"
      ],
      "id": "88062292"
    },
    {
      "cell_type": "code",
      "metadata": {
        "execution": {
          "iopub.execute_input": "2021-10-03T14:03:38.535366Z",
          "iopub.status.busy": "2021-10-03T14:03:38.534748Z",
          "iopub.status.idle": "2021-10-03T14:03:38.542015Z",
          "shell.execute_reply": "2021-10-03T14:03:38.542483Z",
          "shell.execute_reply.started": "2021-10-03T11:27:46.173777Z"
        },
        "papermill": {
          "duration": 0.081115,
          "end_time": "2021-10-03T14:03:38.542660",
          "exception": false,
          "start_time": "2021-10-03T14:03:38.461545",
          "status": "completed"
        },
        "tags": [],
        "id": "fa72a725",
        "outputId": "4036137b-3d60-4315-99b8-a74573aec2cf"
      },
      "source": [
        "Stop_point = df.STOP.value_counts()\n",
        "Stop_point\n",
        "Stop_point[Stop_point >=  10]"
      ],
      "id": "fa72a725",
      "execution_count": null,
      "outputs": [
        {
          "data": {
            "text/plain": [
              "Cary                203\n",
              "Unknown Location    149\n",
              "Morrisville          84\n",
              "Whitebridge          65\n",
              "Islamabad            58\n",
              "Durham               36\n",
              "Lahore               36\n",
              "Raleigh              29\n",
              "Kar?chi              26\n",
              "Apex                 17\n",
              "Berkeley             16\n",
              "Westpark Place       16\n",
              "R?walpindi           13\n",
              "Kissimmee            12\n",
              "Midtown              11\n",
              "Edgehill Farms       10\n",
              "New Orleans          10\n",
              "Kenner               10\n",
              "Name: STOP, dtype: int64"
            ]
          },
          "execution_count": 25,
          "metadata": {},
          "output_type": "execute_result"
        }
      ]
    },
    {
      "cell_type": "markdown",
      "metadata": {
        "papermill": {
          "duration": 0.068983,
          "end_time": "2021-10-03T14:03:38.680848",
          "exception": false,
          "start_time": "2021-10-03T14:03:38.611865",
          "status": "completed"
        },
        "tags": [],
        "id": "fa302b55"
      },
      "source": [
        "**Note**\n",
        "\n",
        "> The places where Cary , Unknown Loccation, Morrisville , Whitebridge and next to Islamabad are highest stop points.\n",
        "> Highest stop points are not same as Highest end points , there is a bit difference"
      ],
      "id": "fa302b55"
    },
    {
      "cell_type": "markdown",
      "metadata": {
        "id": "T7AqsghnyZ6N"
      },
      "source": [
        ""
      ],
      "id": "T7AqsghnyZ6N"
    },
    {
      "cell_type": "markdown",
      "metadata": {
        "papermill": {
          "duration": 0.067876,
          "end_time": "2021-10-03T14:03:38.817282",
          "exception": false,
          "start_time": "2021-10-03T14:03:38.749406",
          "status": "completed"
        },
        "tags": [],
        "id": "e1bab397"
      },
      "source": [
        "### Which are the places are having LOWEST STOP point"
      ],
      "id": "e1bab397"
    },
    {
      "cell_type": "code",
      "metadata": {
        "execution": {
          "iopub.execute_input": "2021-10-03T14:03:38.961476Z",
          "iopub.status.busy": "2021-10-03T14:03:38.960833Z",
          "iopub.status.idle": "2021-10-03T14:03:38.968130Z",
          "shell.execute_reply": "2021-10-03T14:03:38.968588Z",
          "shell.execute_reply.started": "2021-10-03T11:27:46.192939Z"
        },
        "papermill": {
          "duration": 0.08079,
          "end_time": "2021-10-03T14:03:38.968771",
          "exception": false,
          "start_time": "2021-10-03T14:03:38.887981",
          "status": "completed"
        },
        "tags": [],
        "id": "4c862715",
        "outputId": "12bcb605-dbfd-4009-8320-54cf701f28dc"
      },
      "source": [
        "Stop_point = df.STOP.value_counts()\n",
        "Stop_point\n",
        "Stop_point[Stop_point <=  10]"
      ],
      "id": "4c862715",
      "execution_count": null,
      "outputs": [
        {
          "data": {
            "text/plain": [
              "Edgehill Farms       10\n",
              "New Orleans          10\n",
              "Kenner               10\n",
              "Emeryville            9\n",
              "Central               9\n",
              "                     ..\n",
              "Daytona Beach         1\n",
              "Sand Lake Commons     1\n",
              "Sky Lake              1\n",
              "Vista East            1\n",
              "Ilukwatta             1\n",
              "Name: STOP, Length: 173, dtype: int64"
            ]
          },
          "execution_count": 26,
          "metadata": {},
          "output_type": "execute_result"
        }
      ]
    },
    {
      "cell_type": "markdown",
      "metadata": {
        "papermill": {
          "duration": 0.070381,
          "end_time": "2021-10-03T14:03:39.108851",
          "exception": false,
          "start_time": "2021-10-03T14:03:39.038470",
          "status": "completed"
        },
        "tags": [],
        "id": "400f6080"
      },
      "source": [
        "> **Above are the lowest stop points**\n"
      ],
      "id": "400f6080"
    },
    {
      "cell_type": "markdown",
      "metadata": {
        "papermill": {
          "duration": 0.068584,
          "end_time": "2021-10-03T14:03:39.246363",
          "exception": false,
          "start_time": "2021-10-03T14:03:39.177779",
          "status": "completed"
        },
        "tags": [],
        "id": "7e083610"
      },
      "source": [
        "### MILES MOST"
      ],
      "id": "7e083610"
    },
    {
      "cell_type": "code",
      "metadata": {
        "execution": {
          "iopub.execute_input": "2021-10-03T14:03:39.393714Z",
          "iopub.status.busy": "2021-10-03T14:03:39.392657Z",
          "iopub.status.idle": "2021-10-03T14:03:39.768718Z",
          "shell.execute_reply": "2021-10-03T14:03:39.768198Z",
          "shell.execute_reply.started": "2021-10-03T11:27:46.209201Z"
        },
        "papermill": {
          "duration": 0.453792,
          "end_time": "2021-10-03T14:03:39.768864",
          "exception": false,
          "start_time": "2021-10-03T14:03:39.315072",
          "status": "completed"
        },
        "tags": [],
        "id": "23414c47",
        "outputId": "12af1370-b3c1-4451-be30-3935cff809a5"
      },
      "source": [
        "Miles = df.MILES.value_counts()\n",
        "Miles\n",
        "print(Miles[Miles> 10])\n",
        "\n",
        "\n",
        "Miles[Miles> 10].plot(kind = \"bar\")\n",
        "plt.tight_layout()\n",
        "plt.show()\n"
      ],
      "id": "23414c47",
      "execution_count": null,
      "outputs": [
        {
          "name": "stdout",
          "output_type": "stream",
          "text": [
            "9.9     28\n",
            "3.1     26\n",
            "2.1     19\n",
            "10.4    19\n",
            "3.0     19\n",
            "2.5     19\n",
            "1.7     18\n",
            "1.8     18\n",
            "2.2     18\n",
            "2.8     16\n",
            "1.9     16\n",
            "2.0     16\n",
            "3.3     16\n",
            "6.1     15\n",
            "3.8     15\n",
            "5.5     14\n",
            "1.4     14\n",
            "1.6     13\n",
            "7.9     13\n",
            "2.7     12\n",
            "2.3     12\n",
            "6.2     12\n",
            "5.7     12\n",
            "2.9     12\n",
            "1.5     12\n",
            "6.0     11\n",
            "4.9     11\n",
            "7.7     11\n",
            "5.1     11\n",
            "1.0     11\n",
            "Name: MILES, dtype: int64\n"
          ]
        },
        {
          "data": {
            "image/png": "[encoded data removed]",
            "text/plain": [
              "<Figure size 432x288 with 1 Axes>"
            ]
          },
          "metadata": {
            "needs_background": "light"
          },
          "output_type": "display_data"
        }
      ]
    },
    {
      "cell_type": "code",
      "metadata": {
        "execution": {
          "iopub.execute_input": "2021-10-03T14:03:39.923737Z",
          "iopub.status.busy": "2021-10-03T14:03:39.917963Z",
          "iopub.status.idle": "2021-10-03T14:03:40.113533Z",
          "shell.execute_reply": "2021-10-03T14:03:40.114040Z",
          "shell.execute_reply.started": "2021-10-03T11:27:46.656868Z"
        },
        "papermill": {
          "duration": 0.274558,
          "end_time": "2021-10-03T14:03:40.114223",
          "exception": false,
          "start_time": "2021-10-03T14:03:39.839665",
          "status": "completed"
        },
        "tags": [],
        "id": "5ad80a8e",
        "outputId": "a821f104-f29f-484f-d8d5-5eb92b731dbb"
      },
      "source": [
        "Miles =pd.crosstab(index=df[\"MILES\"]>10,columns='Count of Miles')\n",
        "\n",
        "Miles.plot(kind='bar',color='r',alpha=0.7)\n",
        "plt.legend()\n",
        "Miles\n"
      ],
      "id": "5ad80a8e",
      "execution_count": null,
      "outputs": [
        {
          "data": {
            "text/html": [
              "<div>\n",
              "<style scoped>\n",
              "    .dataframe tbody tr th:only-of-type {\n",
              "        vertical-align: middle;\n",
              "    }\n",
              "\n",
              "    .dataframe tbody tr th {\n",
              "        vertical-align: top;\n",
              "    }\n",
              "\n",
              "    .dataframe thead th {\n",
              "        text-align: right;\n",
              "    }\n",
              "</style>\n",
              "<table border=\"1\" class=\"dataframe\">\n",
              "  <thead>\n",
              "    <tr style=\"text-align: right;\">\n",
              "      <th>col_0</th>\n",
              "      <th>Count of Miles</th>\n",
              "    </tr>\n",
              "    <tr>\n",
              "      <th>MILES</th>\n",
              "      <th></th>\n",
              "    </tr>\n",
              "  </thead>\n",
              "  <tbody>\n",
              "    <tr>\n",
              "      <th>False</th>\n",
              "      <td>840</td>\n",
              "    </tr>\n",
              "    <tr>\n",
              "      <th>True</th>\n",
              "      <td>315</td>\n",
              "    </tr>\n",
              "  </tbody>\n",
              "</table>\n",
              "</div>"
            ],
            "text/plain": [
              "col_0  Count of Miles\n",
              "MILES                \n",
              "False             840\n",
              "True              315"
            ]
          },
          "execution_count": 28,
          "metadata": {},
          "output_type": "execute_result"
        },
        {
          "data": {
            "image/png": "[encoded data removed]",
            "text/plain": [
              "<Figure size 432x288 with 1 Axes>"
            ]
          },
          "metadata": {
            "needs_background": "light"
          },
          "output_type": "display_data"
        }
      ]
    },
    {
      "cell_type": "markdown",
      "metadata": {
        "papermill": {
          "duration": 0.070715,
          "end_time": "2021-10-03T14:03:40.255890",
          "exception": false,
          "start_time": "2021-10-03T14:03:40.185175",
          "status": "completed"
        },
        "tags": [],
        "id": "b3e76f8d"
      },
      "source": [
        "**Greater than 10 miles**"
      ],
      "id": "b3e76f8d"
    },
    {
      "cell_type": "code",
      "metadata": {
        "execution": {
          "iopub.execute_input": "2021-10-03T14:03:40.401533Z",
          "iopub.status.busy": "2021-10-03T14:03:40.400559Z",
          "iopub.status.idle": "2021-10-03T14:03:40.408217Z",
          "shell.execute_reply": "2021-10-03T14:03:40.407603Z",
          "shell.execute_reply.started": "2021-10-03T11:27:46.913423Z"
        },
        "papermill": {
          "duration": 0.08144,
          "end_time": "2021-10-03T14:03:40.408354",
          "exception": false,
          "start_time": "2021-10-03T14:03:40.326914",
          "status": "completed"
        },
        "tags": [],
        "id": "13c5f85d",
        "outputId": "33e1d0b6-6d98-422c-cd4f-1fd036a0d4df"
      },
      "source": [
        "print(df.PURPOSE.value_counts())"
      ],
      "id": "13c5f85d",
      "execution_count": null,
      "outputs": [
        {
          "name": "stdout",
          "output_type": "stream",
          "text": [
            "Meeting            308\n",
            "Meal/Entertain     245\n",
            "Temporary Site     196\n",
            "Errand/Supplies    173\n",
            "Customer Visit     155\n",
            "Airport/Travel      54\n",
            "Between Offices     18\n",
            "Moving               4\n",
            "Charity ($)          1\n",
            "Commute              1\n",
            "Name: PURPOSE, dtype: int64\n"
          ]
        }
      ]
    },
    {
      "cell_type": "markdown",
      "metadata": {
        "papermill": {
          "duration": 0.072157,
          "end_time": "2021-10-03T14:03:40.552204",
          "exception": false,
          "start_time": "2021-10-03T14:03:40.480047",
          "status": "completed"
        },
        "tags": [],
        "id": "17ecf566"
      },
      "source": [
        "### Purpose of most cab rides"
      ],
      "id": "17ecf566"
    },
    {
      "cell_type": "code",
      "metadata": {
        "execution": {
          "iopub.execute_input": "2021-10-03T14:03:40.706140Z",
          "iopub.status.busy": "2021-10-03T14:03:40.705443Z",
          "iopub.status.idle": "2021-10-03T14:03:40.900347Z",
          "shell.execute_reply": "2021-10-03T14:03:40.899680Z",
          "shell.execute_reply.started": "2021-10-03T11:27:46.923992Z"
        },
        "papermill": {
          "duration": 0.27683,
          "end_time": "2021-10-03T14:03:40.900509",
          "exception": false,
          "start_time": "2021-10-03T14:03:40.623679",
          "status": "completed"
        },
        "tags": [],
        "id": "6033176d",
        "outputId": "45e0ef82-1202-4644-eedd-40fbe8190e9b"
      },
      "source": [
        "plt.figure(figsize=(15,6))\n",
        "sns.countplot(df['PURPOSE'], order=df['PURPOSE'].value_counts().index, palette='viridis')\n",
        "plt.show()"
      ],
      "id": "6033176d",
      "execution_count": null,
      "outputs": [
        {
          "data": {
            "image/png": "[encoded data removed]",
            "text/plain": [
              "<Figure size 1080x432 with 1 Axes>"
            ]
          },
          "metadata": {
            "needs_background": "light"
          },
          "output_type": "display_data"
        }
      ]
    },
    {
      "cell_type": "markdown",
      "metadata": {
        "papermill": {
          "duration": 0.073239,
          "end_time": "2021-10-03T14:03:41.045971",
          "exception": false,
          "start_time": "2021-10-03T14:03:40.972732",
          "status": "completed"
        },
        "tags": [],
        "id": "2fc72ec2"
      },
      "source": [
        "**Grouping Purpose by Miles to see if we can get any pattern.**"
      ],
      "id": "2fc72ec2"
    },
    {
      "cell_type": "code",
      "metadata": {
        "execution": {
          "iopub.execute_input": "2021-10-03T14:03:41.206704Z",
          "iopub.status.busy": "2021-10-03T14:03:41.201425Z",
          "iopub.status.idle": "2021-10-03T14:03:41.210939Z",
          "shell.execute_reply": "2021-10-03T14:03:41.210367Z",
          "shell.execute_reply.started": "2021-10-03T11:27:47.188433Z"
        },
        "papermill": {
          "duration": 0.092685,
          "end_time": "2021-10-03T14:03:41.211084",
          "exception": false,
          "start_time": "2021-10-03T14:03:41.118399",
          "status": "completed"
        },
        "tags": [],
        "id": "c85db915",
        "outputId": "a6fd842d-2500-44f7-edc0-97b9ce2fb0b7"
      },
      "source": [
        "# For future Analysis\n",
        "\n",
        "\n",
        "# Lets calculate the duration, as there might be some relation of it to PURPOSE of Cab ride.\n",
        "df['MINUTES'] = df.END_DATE - df.START_DATE\n",
        "df.head(3)"
      ],
      "id": "c85db915",
      "execution_count": null,
      "outputs": [
        {
          "data": {
            "text/html": [
              "<div>\n",
              "<style scoped>\n",
              "    .dataframe tbody tr th:only-of-type {\n",
              "        vertical-align: middle;\n",
              "    }\n",
              "\n",
              "    .dataframe tbody tr th {\n",
              "        vertical-align: top;\n",
              "    }\n",
              "\n",
              "    .dataframe thead th {\n",
              "        text-align: right;\n",
              "    }\n",
              "</style>\n",
              "<table border=\"1\" class=\"dataframe\">\n",
              "  <thead>\n",
              "    <tr style=\"text-align: right;\">\n",
              "      <th></th>\n",
              "      <th>START_DATE</th>\n",
              "      <th>END_DATE</th>\n",
              "      <th>CATEGORY</th>\n",
              "      <th>START</th>\n",
              "      <th>STOP</th>\n",
              "      <th>MILES</th>\n",
              "      <th>PURPOSE</th>\n",
              "      <th>MINUTES</th>\n",
              "    </tr>\n",
              "  </thead>\n",
              "  <tbody>\n",
              "    <tr>\n",
              "      <th>0</th>\n",
              "      <td>2016-01-01 21:11:00</td>\n",
              "      <td>2016-01-01 21:17:00</td>\n",
              "      <td>Business</td>\n",
              "      <td>Fort Pierce</td>\n",
              "      <td>Fort Pierce</td>\n",
              "      <td>5.1</td>\n",
              "      <td>Meal/Entertain</td>\n",
              "      <td>0 days 00:06:00</td>\n",
              "    </tr>\n",
              "    <tr>\n",
              "      <th>1</th>\n",
              "      <td>2016-01-02 01:25:00</td>\n",
              "      <td>2016-01-02 01:37:00</td>\n",
              "      <td>Business</td>\n",
              "      <td>Fort Pierce</td>\n",
              "      <td>Fort Pierce</td>\n",
              "      <td>5.0</td>\n",
              "      <td>Meal/Entertain</td>\n",
              "      <td>0 days 00:12:00</td>\n",
              "    </tr>\n",
              "    <tr>\n",
              "      <th>2</th>\n",
              "      <td>2016-01-02 20:25:00</td>\n",
              "      <td>2016-01-02 20:38:00</td>\n",
              "      <td>Business</td>\n",
              "      <td>Fort Pierce</td>\n",
              "      <td>Fort Pierce</td>\n",
              "      <td>4.8</td>\n",
              "      <td>Errand/Supplies</td>\n",
              "      <td>0 days 00:13:00</td>\n",
              "    </tr>\n",
              "  </tbody>\n",
              "</table>\n",
              "</div>"
            ],
            "text/plain": [
              "           START_DATE            END_DATE  CATEGORY        START         STOP  \\\n",
              "0 2016-01-01 21:11:00 2016-01-01 21:17:00  Business  Fort Pierce  Fort Pierce   \n",
              "1 2016-01-02 01:25:00 2016-01-02 01:37:00  Business  Fort Pierce  Fort Pierce   \n",
              "2 2016-01-02 20:25:00 2016-01-02 20:38:00  Business  Fort Pierce  Fort Pierce   \n",
              "\n",
              "   MILES          PURPOSE         MINUTES  \n",
              "0    5.1   Meal/Entertain 0 days 00:06:00  \n",
              "1    5.0   Meal/Entertain 0 days 00:12:00  \n",
              "2    4.8  Errand/Supplies 0 days 00:13:00  "
            ]
          },
          "execution_count": 31,
          "metadata": {},
          "output_type": "execute_result"
        }
      ]
    },
    {
      "cell_type": "code",
      "metadata": {
        "execution": {
          "iopub.execute_input": "2021-10-03T14:03:41.373884Z",
          "iopub.status.busy": "2021-10-03T14:03:41.372909Z",
          "iopub.status.idle": "2021-10-03T14:03:41.377117Z",
          "shell.execute_reply": "2021-10-03T14:03:41.376506Z",
          "shell.execute_reply.started": "2021-10-03T11:27:47.206368Z"
        },
        "papermill": {
          "duration": 0.093235,
          "end_time": "2021-10-03T14:03:41.377252",
          "exception": false,
          "start_time": "2021-10-03T14:03:41.284017",
          "status": "completed"
        },
        "tags": [],
        "id": "492adb9c",
        "outputId": "b517acb6-aa8b-4e11-9c93-2a148fc4293d"
      },
      "source": [
        "# As Duration is in datetime format, we need to convert it to float type in order to use it for analysis.\n",
        "df['MINUTES'] = df['MINUTES'].dt.total_seconds() /60\n",
        "df.head()"
      ],
      "id": "492adb9c",
      "execution_count": null,
      "outputs": [
        {
          "data": {
            "text/html": [
              "<div>\n",
              "<style scoped>\n",
              "    .dataframe tbody tr th:only-of-type {\n",
              "        vertical-align: middle;\n",
              "    }\n",
              "\n",
              "    .dataframe tbody tr th {\n",
              "        vertical-align: top;\n",
              "    }\n",
              "\n",
              "    .dataframe thead th {\n",
              "        text-align: right;\n",
              "    }\n",
              "</style>\n",
              "<table border=\"1\" class=\"dataframe\">\n",
              "  <thead>\n",
              "    <tr style=\"text-align: right;\">\n",
              "      <th></th>\n",
              "      <th>START_DATE</th>\n",
              "      <th>END_DATE</th>\n",
              "      <th>CATEGORY</th>\n",
              "      <th>START</th>\n",
              "      <th>STOP</th>\n",
              "      <th>MILES</th>\n",
              "      <th>PURPOSE</th>\n",
              "      <th>MINUTES</th>\n",
              "    </tr>\n",
              "  </thead>\n",
              "  <tbody>\n",
              "    <tr>\n",
              "      <th>0</th>\n",
              "      <td>2016-01-01 21:11:00</td>\n",
              "      <td>2016-01-01 21:17:00</td>\n",
              "      <td>Business</td>\n",
              "      <td>Fort Pierce</td>\n",
              "      <td>Fort Pierce</td>\n",
              "      <td>5.1</td>\n",
              "      <td>Meal/Entertain</td>\n",
              "      <td>6.0</td>\n",
              "    </tr>\n",
              "    <tr>\n",
              "      <th>1</th>\n",
              "      <td>2016-01-02 01:25:00</td>\n",
              "      <td>2016-01-02 01:37:00</td>\n",
              "      <td>Business</td>\n",
              "      <td>Fort Pierce</td>\n",
              "      <td>Fort Pierce</td>\n",
              "      <td>5.0</td>\n",
              "      <td>Meal/Entertain</td>\n",
              "      <td>12.0</td>\n",
              "    </tr>\n",
              "    <tr>\n",
              "      <th>2</th>\n",
              "      <td>2016-01-02 20:25:00</td>\n",
              "      <td>2016-01-02 20:38:00</td>\n",
              "      <td>Business</td>\n",
              "      <td>Fort Pierce</td>\n",
              "      <td>Fort Pierce</td>\n",
              "      <td>4.8</td>\n",
              "      <td>Errand/Supplies</td>\n",
              "      <td>13.0</td>\n",
              "    </tr>\n",
              "    <tr>\n",
              "      <th>3</th>\n",
              "      <td>2016-01-05 17:31:00</td>\n",
              "      <td>2016-01-05 17:45:00</td>\n",
              "      <td>Business</td>\n",
              "      <td>Fort Pierce</td>\n",
              "      <td>Fort Pierce</td>\n",
              "      <td>4.7</td>\n",
              "      <td>Meeting</td>\n",
              "      <td>14.0</td>\n",
              "    </tr>\n",
              "    <tr>\n",
              "      <th>4</th>\n",
              "      <td>2016-01-06 14:42:00</td>\n",
              "      <td>2016-01-06 15:49:00</td>\n",
              "      <td>Business</td>\n",
              "      <td>Fort Pierce</td>\n",
              "      <td>West Palm Beach</td>\n",
              "      <td>63.7</td>\n",
              "      <td>Customer Visit</td>\n",
              "      <td>67.0</td>\n",
              "    </tr>\n",
              "  </tbody>\n",
              "</table>\n",
              "</div>"
            ],
            "text/plain": [
              "           START_DATE            END_DATE  CATEGORY        START  \\\n",
              "0 2016-01-01 21:11:00 2016-01-01 21:17:00  Business  Fort Pierce   \n",
              "1 2016-01-02 01:25:00 2016-01-02 01:37:00  Business  Fort Pierce   \n",
              "2 2016-01-02 20:25:00 2016-01-02 20:38:00  Business  Fort Pierce   \n",
              "3 2016-01-05 17:31:00 2016-01-05 17:45:00  Business  Fort Pierce   \n",
              "4 2016-01-06 14:42:00 2016-01-06 15:49:00  Business  Fort Pierce   \n",
              "\n",
              "              STOP  MILES          PURPOSE  MINUTES  \n",
              "0      Fort Pierce    5.1   Meal/Entertain      6.0  \n",
              "1      Fort Pierce    5.0   Meal/Entertain     12.0  \n",
              "2      Fort Pierce    4.8  Errand/Supplies     13.0  \n",
              "3      Fort Pierce    4.7          Meeting     14.0  \n",
              "4  West Palm Beach   63.7   Customer Visit     67.0  "
            ]
          },
          "execution_count": 32,
          "metadata": {},
          "output_type": "execute_result"
        }
      ]
    },
    {
      "cell_type": "markdown",
      "metadata": {
        "papermill": {
          "duration": 0.07833,
          "end_time": "2021-10-03T14:03:41.528817",
          "exception": false,
          "start_time": "2021-10-03T14:03:41.450487",
          "status": "completed"
        },
        "tags": [],
        "id": "531b0511"
      },
      "source": [
        "## Analysis and Visualization"
      ],
      "id": "531b0511"
    },
    {
      "cell_type": "markdown",
      "metadata": {
        "papermill": {
          "duration": 0.073147,
          "end_time": "2021-10-03T14:03:41.698425",
          "exception": false,
          "start_time": "2021-10-03T14:03:41.625278",
          "status": "completed"
        },
        "tags": [],
        "id": "9553cd8c"
      },
      "source": [
        "**Grouping Purpose by Miles to see if we can get any pattern.**"
      ],
      "id": "9553cd8c"
    },
    {
      "cell_type": "code",
      "metadata": {
        "execution": {
          "iopub.execute_input": "2021-10-03T14:03:41.868143Z",
          "iopub.status.busy": "2021-10-03T14:03:41.866786Z",
          "iopub.status.idle": "2021-10-03T14:03:41.870867Z",
          "shell.execute_reply": "2021-10-03T14:03:41.871382Z",
          "shell.execute_reply.started": "2021-10-03T11:27:47.234737Z"
        },
        "papermill": {
          "duration": 0.099588,
          "end_time": "2021-10-03T14:03:41.871577",
          "exception": false,
          "start_time": "2021-10-03T14:03:41.771989",
          "status": "completed"
        },
        "tags": [],
        "id": "624c3f09",
        "outputId": "2bd2b926-ce2d-4016-f60f-3c0d52f1cf59"
      },
      "source": [
        "pd.DataFrame({'MEAN': df.groupby(['PURPOSE'])['MILES'].mean().round(1), \n",
        "              'MIN' : df.groupby(['PURPOSE'])['MILES'].min(), \n",
        "              'MAX' : df.groupby([\"PURPOSE\"])['MILES'].max()}).reset_index()"
      ],
      "id": "624c3f09",
      "execution_count": null,
      "outputs": [
        {
          "data": {
            "text/html": [
              "<div>\n",
              "<style scoped>\n",
              "    .dataframe tbody tr th:only-of-type {\n",
              "        vertical-align: middle;\n",
              "    }\n",
              "\n",
              "    .dataframe tbody tr th {\n",
              "        vertical-align: top;\n",
              "    }\n",
              "\n",
              "    .dataframe thead th {\n",
              "        text-align: right;\n",
              "    }\n",
              "</style>\n",
              "<table border=\"1\" class=\"dataframe\">\n",
              "  <thead>\n",
              "    <tr style=\"text-align: right;\">\n",
              "      <th></th>\n",
              "      <th>PURPOSE</th>\n",
              "      <th>MEAN</th>\n",
              "      <th>MIN</th>\n",
              "      <th>MAX</th>\n",
              "    </tr>\n",
              "  </thead>\n",
              "  <tbody>\n",
              "    <tr>\n",
              "      <th>0</th>\n",
              "      <td>Airport/Travel</td>\n",
              "      <td>15.0</td>\n",
              "      <td>0.9</td>\n",
              "      <td>156.9</td>\n",
              "    </tr>\n",
              "    <tr>\n",
              "      <th>1</th>\n",
              "      <td>Between Offices</td>\n",
              "      <td>10.9</td>\n",
              "      <td>1.9</td>\n",
              "      <td>39.2</td>\n",
              "    </tr>\n",
              "    <tr>\n",
              "      <th>2</th>\n",
              "      <td>Charity ($)</td>\n",
              "      <td>15.1</td>\n",
              "      <td>15.1</td>\n",
              "      <td>15.1</td>\n",
              "    </tr>\n",
              "    <tr>\n",
              "      <th>3</th>\n",
              "      <td>Commute</td>\n",
              "      <td>180.2</td>\n",
              "      <td>180.2</td>\n",
              "      <td>180.2</td>\n",
              "    </tr>\n",
              "    <tr>\n",
              "      <th>4</th>\n",
              "      <td>Customer Visit</td>\n",
              "      <td>16.1</td>\n",
              "      <td>0.6</td>\n",
              "      <td>310.3</td>\n",
              "    </tr>\n",
              "    <tr>\n",
              "      <th>5</th>\n",
              "      <td>Errand/Supplies</td>\n",
              "      <td>5.9</td>\n",
              "      <td>0.5</td>\n",
              "      <td>195.3</td>\n",
              "    </tr>\n",
              "    <tr>\n",
              "      <th>6</th>\n",
              "      <td>Meal/Entertain</td>\n",
              "      <td>5.8</td>\n",
              "      <td>0.6</td>\n",
              "      <td>36.5</td>\n",
              "    </tr>\n",
              "    <tr>\n",
              "      <th>7</th>\n",
              "      <td>Meeting</td>\n",
              "      <td>12.7</td>\n",
              "      <td>0.7</td>\n",
              "      <td>201.0</td>\n",
              "    </tr>\n",
              "    <tr>\n",
              "      <th>8</th>\n",
              "      <td>Moving</td>\n",
              "      <td>4.6</td>\n",
              "      <td>3.3</td>\n",
              "      <td>6.1</td>\n",
              "    </tr>\n",
              "    <tr>\n",
              "      <th>9</th>\n",
              "      <td>Temporary Site</td>\n",
              "      <td>11.0</td>\n",
              "      <td>0.7</td>\n",
              "      <td>195.6</td>\n",
              "    </tr>\n",
              "  </tbody>\n",
              "</table>\n",
              "</div>"
            ],
            "text/plain": [
              "           PURPOSE   MEAN    MIN    MAX\n",
              "0   Airport/Travel   15.0    0.9  156.9\n",
              "1  Between Offices   10.9    1.9   39.2\n",
              "2      Charity ($)   15.1   15.1   15.1\n",
              "3          Commute  180.2  180.2  180.2\n",
              "4   Customer Visit   16.1    0.6  310.3\n",
              "5  Errand/Supplies    5.9    0.5  195.3\n",
              "6   Meal/Entertain    5.8    0.6   36.5\n",
              "7          Meeting   12.7    0.7  201.0\n",
              "8           Moving    4.6    3.3    6.1\n",
              "9   Temporary Site   11.0    0.7  195.6"
            ]
          },
          "execution_count": 33,
          "metadata": {},
          "output_type": "execute_result"
        }
      ]
    },
    {
      "cell_type": "markdown",
      "metadata": {
        "papermill": {
          "duration": 0.073753,
          "end_time": "2021-10-03T14:03:42.019359",
          "exception": false,
          "start_time": "2021-10-03T14:03:41.945606",
          "status": "completed"
        },
        "tags": [],
        "id": "ca30cea8"
      },
      "source": [
        "###  BOX Plot for better Visualization\n",
        "BOX plot of MILES and MINUTES split by PURPOSE"
      ],
      "id": "ca30cea8"
    },
    {
      "cell_type": "code",
      "metadata": {
        "execution": {
          "iopub.execute_input": "2021-10-03T14:03:42.204471Z",
          "iopub.status.busy": "2021-10-03T14:03:42.202069Z",
          "iopub.status.idle": "2021-10-03T14:03:42.889398Z",
          "shell.execute_reply": "2021-10-03T14:03:42.888773Z",
          "shell.execute_reply.started": "2021-10-03T11:27:47.264944Z"
        },
        "papermill": {
          "duration": 0.794842,
          "end_time": "2021-10-03T14:03:42.889555",
          "exception": false,
          "start_time": "2021-10-03T14:03:42.094713",
          "status": "completed"
        },
        "tags": [],
        "id": "64fc07a5",
        "outputId": "9e936860-1e36-4fff-abbb-124ece926c6a"
      },
      "source": [
        "plt.figure(figsize=(16,7))\n",
        "plt.subplot(1,2,1)\n",
        "sns.boxplot(data=df, x=df.PURPOSE, y=df.MILES)\n",
        "plt.xticks(rotation=45)\n",
        "plt.subplot(1,2,2)\n",
        "sns.boxplot(data=df, x=df.PURPOSE, y=df.MINUTES)\n",
        "plt.xticks(rotation=45);"
      ],
      "id": "64fc07a5",
      "execution_count": null,
      "outputs": [
        {
          "data": {
            "image/png": "[encoded data removed]",
            "text/plain": [
              "<Figure size 1152x504 with 2 Axes>"
            ]
          },
          "metadata": {
            "needs_background": "light"
          },
          "output_type": "display_data"
        }
      ]
    },
    {
      "cell_type": "markdown",
      "metadata": {
        "papermill": {
          "duration": 0.075039,
          "end_time": "2021-10-03T14:03:43.040216",
          "exception": false,
          "start_time": "2021-10-03T14:03:42.965177",
          "status": "completed"
        },
        "tags": [],
        "id": "d17315b8"
      },
      "source": [
        "**Boxplots of MILES and MINUTES based on PURPOSE without outliers**"
      ],
      "id": "d17315b8"
    },
    {
      "cell_type": "code",
      "metadata": {
        "execution": {
          "iopub.execute_input": "2021-10-03T14:03:43.218575Z",
          "iopub.status.busy": "2021-10-03T14:03:43.217642Z",
          "iopub.status.idle": "2021-10-03T14:03:43.876189Z",
          "shell.execute_reply": "2021-10-03T14:03:43.875656Z",
          "shell.execute_reply.started": "2021-10-03T11:27:48.167301Z"
        },
        "papermill": {
          "duration": 0.759505,
          "end_time": "2021-10-03T14:03:43.876336",
          "exception": false,
          "start_time": "2021-10-03T14:03:43.116831",
          "status": "completed"
        },
        "tags": [],
        "id": "8d8810f0",
        "outputId": "7d8da654-a43b-40ef-cdd2-a4d725e2c259"
      },
      "source": [
        "plt.figure(figsize=(16,7))\n",
        "plt.subplot(1,2,1)\n",
        "sns.boxplot(data=df, x=df.PURPOSE, y=df.MILES,showfliers=False)\n",
        "plt.xticks(rotation=45)\n",
        "plt.subplot(1,2,2)\n",
        "sns.boxplot(data=df, x=df.PURPOSE, y=df.MINUTES,showfliers=False)\n",
        "plt.xticks(rotation=45);"
      ],
      "id": "8d8810f0",
      "execution_count": null,
      "outputs": [
        {
          "data": {
            "image/png": "[encoded data removed]",
            "text/plain": [
              "<Figure size 1152x504 with 2 Axes>"
            ]
          },
          "metadata": {
            "needs_background": "light"
          },
          "output_type": "display_data"
        }
      ]
    },
    {
      "cell_type": "markdown",
      "metadata": {
        "papermill": {
          "duration": 0.07692,
          "end_time": "2021-10-03T14:03:44.030132",
          "exception": false,
          "start_time": "2021-10-03T14:03:43.953212",
          "status": "completed"
        },
        "tags": [],
        "id": "964946bf"
      },
      "source": [
        "**Checking how many are the ROUND TRIPS i.e. start and stop points are same**"
      ],
      "id": "964946bf"
    },
    {
      "cell_type": "code",
      "metadata": {
        "execution": {
          "iopub.execute_input": "2021-10-03T14:03:44.189639Z",
          "iopub.status.busy": "2021-10-03T14:03:44.188965Z",
          "iopub.status.idle": "2021-10-03T14:03:44.388011Z",
          "shell.execute_reply": "2021-10-03T14:03:44.387479Z",
          "shell.execute_reply.started": "2021-10-03T11:27:48.856835Z"
        },
        "papermill": {
          "duration": 0.278605,
          "end_time": "2021-10-03T14:03:44.388146",
          "exception": false,
          "start_time": "2021-10-03T14:03:44.109541",
          "status": "completed"
        },
        "tags": [],
        "id": "d8245822",
        "outputId": "c14cb86b-9f94-4145-ac10-74da14c13db1"
      },
      "source": [
        "# For this purpose, we need to make a function\n",
        "plt.figure(figsize=(8,5))\n",
        "def round(x):\n",
        "    if x['START'] == x['STOP']:\n",
        "        return 'YES'\n",
        "    else:\n",
        "        return 'NO'\n",
        "    \n",
        "df['ROUND_TRIP'] = df.apply(round, axis=1)\n",
        "\n",
        "sns.countplot(df['ROUND_TRIP'], order=df['ROUND_TRIP'].value_counts().index, palette='rocket_r')\n",
        "plt.show()"
      ],
      "id": "d8245822",
      "execution_count": null,
      "outputs": [
        {
          "data": {
            "image/png": "[encoded data removed]",
            "text/plain": [
              "<Figure size 576x360 with 1 Axes>"
            ]
          },
          "metadata": {
            "needs_background": "light"
          },
          "output_type": "display_data"
        }
      ]
    },
    {
      "cell_type": "markdown",
      "metadata": {
        "papermill": {
          "duration": 0.078392,
          "end_time": "2021-10-03T14:03:44.544270",
          "exception": false,
          "start_time": "2021-10-03T14:03:44.465878",
          "status": "completed"
        },
        "tags": [],
        "id": "4ddf69f9"
      },
      "source": [
        "**There are very less number of ROUND Trips.** so(yes is low numb i.e round trip)"
      ],
      "id": "4ddf69f9"
    },
    {
      "cell_type": "markdown",
      "metadata": {
        "papermill": {
          "duration": 0.076822,
          "end_time": "2021-10-03T14:03:44.698002",
          "exception": false,
          "start_time": "2021-10-03T14:03:44.621180",
          "status": "completed"
        },
        "tags": [],
        "id": "5f0e3963"
      },
      "source": [
        "### Entering Month Name and evaluating Frequency of Trip in each Month"
      ],
      "id": "5f0e3963"
    },
    {
      "cell_type": "code",
      "metadata": {
        "execution": {
          "iopub.execute_input": "2021-10-03T14:03:44.859974Z",
          "iopub.status.busy": "2021-10-03T14:03:44.859003Z",
          "iopub.status.idle": "2021-10-03T14:03:44.863255Z",
          "shell.execute_reply": "2021-10-03T14:03:44.862756Z",
          "shell.execute_reply.started": "2021-10-03T11:27:49.069845Z"
        },
        "papermill": {
          "duration": 0.087359,
          "end_time": "2021-10-03T14:03:44.863394",
          "exception": false,
          "start_time": "2021-10-03T14:03:44.776035",
          "status": "completed"
        },
        "tags": [],
        "id": "ccb6444d"
      },
      "source": [
        "df['MONTH'] = pd.DatetimeIndex(df['START_DATE']).month"
      ],
      "id": "ccb6444d",
      "execution_count": null,
      "outputs": []
    },
    {
      "cell_type": "code",
      "metadata": {
        "execution": {
          "iopub.execute_input": "2021-10-03T14:03:45.022818Z",
          "iopub.status.busy": "2021-10-03T14:03:45.022158Z",
          "iopub.status.idle": "2021-10-03T14:03:45.028692Z",
          "shell.execute_reply": "2021-10-03T14:03:45.029281Z",
          "shell.execute_reply.started": "2021-10-03T11:27:49.076919Z"
        },
        "papermill": {
          "duration": 0.088349,
          "end_time": "2021-10-03T14:03:45.029485",
          "exception": false,
          "start_time": "2021-10-03T14:03:44.941136",
          "status": "completed"
        },
        "tags": [],
        "id": "4e63bbc4"
      },
      "source": [
        "dic = {1:'Jan', 2: 'Feb', 3: 'Mar', 4: 'April', 5: 'May', 6: 'June', 7: 'July', 8: 'Aug', 9: 'Sep',\n",
        "      10: 'Oct', 11: 'Nov', 12: 'Dec' }\n",
        "\n",
        "df['MONTH'] = df['MONTH'].map(dic)\n",
        "\n",
        "\n",
        "\n",
        "# MAP FUNCTION : Its a build in function\n",
        "#       1. This function is used to apply a function to all the elements of a sequence(list,tuple.strings) \n"
      ],
      "id": "4e63bbc4",
      "execution_count": null,
      "outputs": []
    },
    {
      "cell_type": "markdown",
      "metadata": {
        "papermill": {
          "duration": 0.077795,
          "end_time": "2021-10-03T14:03:45.186868",
          "exception": false,
          "start_time": "2021-10-03T14:03:45.109073",
          "status": "completed"
        },
        "tags": [],
        "id": "c737d735"
      },
      "source": [
        "**When are cab rides more popular (frequently used)?**"
      ],
      "id": "c737d735"
    },
    {
      "cell_type": "code",
      "metadata": {
        "execution": {
          "iopub.execute_input": "2021-10-03T14:03:45.344786Z",
          "iopub.status.busy": "2021-10-03T14:03:45.344126Z",
          "iopub.status.idle": "2021-10-03T14:03:45.775400Z",
          "shell.execute_reply": "2021-10-03T14:03:45.775951Z",
          "shell.execute_reply.started": "2021-10-03T11:27:49.092649Z"
        },
        "papermill": {
          "duration": 0.511976,
          "end_time": "2021-10-03T14:03:45.776125",
          "exception": false,
          "start_time": "2021-10-03T14:03:45.264149",
          "status": "completed"
        },
        "tags": [],
        "id": "117af15f",
        "outputId": "5fccb29e-3aab-40ea-a1b5-7e3ab7bcbaa7"
      },
      "source": [
        "plt.figure(figsize=(12,7))\n",
        "sns.countplot(df['MONTH'], order=df['MONTH'].value_counts().index, palette='deep')\n",
        "plt.axhline(df['MONTH'].value_counts().mean(),linestyle='--', color = 'darkred', label='Mean Trips across Months')\n",
        "plt.legend()\n",
        "plt.show()"
      ],
      "id": "117af15f",
      "execution_count": null,
      "outputs": [
        {
          "data": {
            "image/png": "[encoded data removed]",
            "text/plain": [
              "<Figure size 864x504 with 1 Axes>"
            ]
          },
          "metadata": {
            "needs_background": "light"
          },
          "output_type": "display_data"
        }
      ]
    },
    {
      "cell_type": "markdown",
      "metadata": {
        "papermill": {
          "duration": 0.079062,
          "end_time": "2021-10-03T14:03:45.934688",
          "exception": false,
          "start_time": "2021-10-03T14:03:45.855626",
          "status": "completed"
        },
        "tags": [],
        "id": "ef44b9e7"
      },
      "source": [
        "**Round Trip against Months**"
      ],
      "id": "ef44b9e7"
    },
    {
      "cell_type": "code",
      "metadata": {
        "execution": {
          "iopub.execute_input": "2021-10-03T14:03:46.097212Z",
          "iopub.status.busy": "2021-10-03T14:03:46.096591Z",
          "iopub.status.idle": "2021-10-03T14:03:46.401163Z",
          "shell.execute_reply": "2021-10-03T14:03:46.401685Z",
          "shell.execute_reply.started": "2021-10-03T11:27:49.399602Z"
        },
        "papermill": {
          "duration": 0.387359,
          "end_time": "2021-10-03T14:03:46.401855",
          "exception": false,
          "start_time": "2021-10-03T14:03:46.014496",
          "status": "completed"
        },
        "tags": [],
        "id": "434be81c",
        "outputId": "4b30f5b4-1751-42df-bc1e-933ac0459617"
      },
      "source": [
        "plt.figure(figsize=(12,7))\n",
        "a=sns.countplot(df['ROUND_TRIP'],hue=df['MONTH'])\n",
        "plt.legend(bbox_to_anchor=(1.05, 0.95), loc=2)\n",
        "plt.show()"
      ],
      "id": "434be81c",
      "execution_count": null,
      "outputs": [
        {
          "data": {
            "image/png": "[encoded data removed]",
            "text/plain": [
              "<Figure size 864x504 with 1 Axes>"
            ]
          },
          "metadata": {
            "needs_background": "light"
          },
          "output_type": "display_data"
        }
      ]
    },
    {
      "cell_type": "markdown",
      "metadata": {
        "papermill": {
          "duration": 0.078869,
          "end_time": "2021-10-03T14:03:46.559933",
          "exception": false,
          "start_time": "2021-10-03T14:03:46.481064",
          "status": "completed"
        },
        "tags": [],
        "id": "0e37d812"
      },
      "source": [
        "###  How does the PURPOSE of Cab ride vary with time and distance?"
      ],
      "id": "0e37d812"
    },
    {
      "cell_type": "code",
      "metadata": {
        "execution": {
          "iopub.execute_input": "2021-10-03T14:03:46.722139Z",
          "iopub.status.busy": "2021-10-03T14:03:46.721483Z",
          "iopub.status.idle": "2021-10-03T14:03:47.463456Z",
          "shell.execute_reply": "2021-10-03T14:03:47.464195Z",
          "shell.execute_reply.started": "2021-10-03T11:27:49.740145Z"
        },
        "papermill": {
          "duration": 0.825211,
          "end_time": "2021-10-03T14:03:47.464422",
          "exception": false,
          "start_time": "2021-10-03T14:03:46.639211",
          "status": "completed"
        },
        "tags": [],
        "id": "8b33c630",
        "outputId": "316a5454-5575-41a2-ee89-440a83fe8a3d"
      },
      "source": [
        "plt.figure(figsize=(16,7))\n",
        "plt.subplot(1,2,1)\n",
        "sns.boxplot(data=df, x=df.PURPOSE, y=df.MILES, showfliers = False)\n",
        "plt.xticks(rotation = 45)\n",
        "plt.subplot(1,2,2)\n",
        "sns.boxplot(data=df, x=df.PURPOSE, y=df.MINUTES, showfliers = False)\n",
        "plt.xticks(rotation = 45);"
      ],
      "id": "8b33c630",
      "execution_count": null,
      "outputs": [
        {
          "data": {
            "image/png": "[encoded data removed]",
            "text/plain": [
              "<Figure size 1152x504 with 2 Axes>"
            ]
          },
          "metadata": {
            "needs_background": "light"
          },
          "output_type": "display_data"
        }
      ]
    },
    {
      "cell_type": "markdown",
      "metadata": {
        "papermill": {
          "duration": 0.079991,
          "end_time": "2021-10-03T14:03:47.630752",
          "exception": false,
          "start_time": "2021-10-03T14:03:47.550761",
          "status": "completed"
        },
        "tags": [],
        "id": "88838a6a"
      },
      "source": [
        "#### Is the distance proportional to the duration?"
      ],
      "id": "88838a6a"
    },
    {
      "cell_type": "code",
      "metadata": {
        "execution": {
          "iopub.execute_input": "2021-10-03T14:03:47.836476Z",
          "iopub.status.busy": "2021-10-03T14:03:47.835795Z",
          "iopub.status.idle": "2021-10-03T14:03:50.146372Z",
          "shell.execute_reply": "2021-10-03T14:03:50.145803Z",
          "shell.execute_reply.started": "2021-10-03T11:27:50.46883Z"
        },
        "papermill": {
          "duration": 2.435078,
          "end_time": "2021-10-03T14:03:50.146538",
          "exception": false,
          "start_time": "2021-10-03T14:03:47.711460",
          "status": "completed"
        },
        "tags": [],
        "id": "e0131f77",
        "outputId": "fdeabbd1-0897-48de-b09e-929e372db188"
      },
      "source": [
        "#Plots of MILES with respect to MINUTES\n",
        "plt.figure(figsize = (14,5))\n",
        "plt.subplot(1,2,1)\n",
        "sns.lineplot(data=df, x=df.MINUTES, y=df.MILES)\n",
        "plt.grid(True, linestyle = \"--\")\n",
        "plt.subplot(1,2,2)\n",
        "sns.scatterplot(data=df, x=df.MINUTES, y=df.MILES)\n",
        "plt.grid(True, linestyle = \"--\")"
      ],
      "id": "e0131f77",
      "execution_count": null,
      "outputs": [
        {
          "data": {
            "image/png": "[encoded data removed]",
            "text/plain": [
              "<Figure size 1008x360 with 2 Axes>"
            ]
          },
          "metadata": {
            "needs_background": "light"
          },
          "output_type": "display_data"
        }
      ]
    },
    {
      "cell_type": "markdown",
      "metadata": {
        "papermill": {
          "duration": 0.082237,
          "end_time": "2021-10-03T14:03:50.311574",
          "exception": false,
          "start_time": "2021-10-03T14:03:50.229337",
          "status": "completed"
        },
        "tags": [],
        "id": "645a0294"
      },
      "source": [
        "**we see that our conventional logic, that distance is proportional to time, is challenged as some cab rides took more time for less distance.**"
      ],
      "id": "645a0294"
    },
    {
      "cell_type": "code",
      "metadata": {
        "execution": {
          "iopub.execute_input": "2021-10-03T14:03:50.505553Z",
          "iopub.status.busy": "2021-10-03T14:03:50.504468Z",
          "iopub.status.idle": "2021-10-03T14:03:50.930887Z",
          "shell.execute_reply": "2021-10-03T14:03:50.931408Z",
          "shell.execute_reply.started": "2021-10-03T11:27:52.899651Z"
        },
        "papermill": {
          "duration": 0.537778,
          "end_time": "2021-10-03T14:03:50.931597",
          "exception": false,
          "start_time": "2021-10-03T14:03:50.393819",
          "status": "completed"
        },
        "tags": [],
        "id": "9f401ad9",
        "outputId": "a985ea26-fdc9-47ab-9be9-07d8c1f0d6ea"
      },
      "source": [
        "# cab rides took more time for less distance.\n",
        "\n",
        "plt.figure(figsize = (16,5))\n",
        "\n",
        "plt.subplot(1,2,1)\n",
        "n, bins, patches = plt.hist(df.MINUTES)\n",
        "plt.xticks(bins.round())\n",
        "plt.grid(True, linestyle = \"dotted\")\n",
        "plt.title(\"Count of Cab ride MINUTES\")\n",
        "\n",
        "plt.subplot(1,2,2)\n",
        "n, bins, patches = plt.hist(df.MILES)\n",
        "plt.xticks(bins.round())\n",
        "plt.grid(True, linestyle = \"dotted\")\n",
        "plt.title(\"Count of Cab ride MILES\");"
      ],
      "id": "9f401ad9",
      "execution_count": null,
      "outputs": [
        {
          "data": {
            "image/png": "[encoded data removed]",
            "text/plain": [
              "<Figure size 1152x360 with 2 Axes>"
            ]
          },
          "metadata": {
            "needs_background": "light"
          },
          "output_type": "display_data"
        }
      ]
    },
    {
      "cell_type": "markdown",
      "metadata": {
        "id": "p5V0XTz5yh7Y"
      },
      "source": [
        ""
      ],
      "id": "p5V0XTz5yh7Y"
    },
    {
      "cell_type": "markdown",
      "metadata": {
        "papermill": {
          "duration": 0.085112,
          "end_time": "2021-10-03T14:03:51.102482",
          "exception": false,
          "start_time": "2021-10-03T14:03:51.017370",
          "status": "completed"
        },
        "tags": [],
        "id": "4a40cb97"
      },
      "source": [
        "### Distribution of Cab rides based on Category\n"
      ],
      "id": "4a40cb97"
    },
    {
      "cell_type": "code",
      "metadata": {
        "execution": {
          "iopub.execute_input": "2021-10-03T14:03:51.283731Z",
          "iopub.status.busy": "2021-10-03T14:03:51.280359Z",
          "iopub.status.idle": "2021-10-03T14:03:51.619239Z",
          "shell.execute_reply": "2021-10-03T14:03:51.618755Z",
          "shell.execute_reply.started": "2021-10-03T11:27:53.37173Z"
        },
        "papermill": {
          "duration": 0.433331,
          "end_time": "2021-10-03T14:03:51.619374",
          "exception": false,
          "start_time": "2021-10-03T14:03:51.186043",
          "status": "completed"
        },
        "tags": [],
        "id": "e68fb5e8",
        "outputId": "5d092278-0215-43b0-e7c7-08195ac79eab"
      },
      "source": [
        "plt.figure(figsize = (9,5))\n",
        "sns.countplot(data=df,x=\"PURPOSE\", hue = 'CATEGORY', dodge = False)\n",
        "plt.xticks(rotation = 45);"
      ],
      "id": "e68fb5e8",
      "execution_count": null,
      "outputs": [
        {
          "data": {
            "image/png": "[encoded data removed]",
            "text/plain": [
              "<Figure size 648x360 with 1 Axes>"
            ]
          },
          "metadata": {
            "needs_background": "light"
          },
          "output_type": "display_data"
        }
      ]
    },
    {
      "cell_type": "markdown",
      "metadata": {
        "papermill": {
          "duration": 0.084175,
          "end_time": "2021-10-03T14:03:51.788320",
          "exception": false,
          "start_time": "2021-10-03T14:03:51.704145",
          "status": "completed"
        },
        "tags": [],
        "id": "3d9a5769"
      },
      "source": [
        "**The above plot makes clear distinction on the Purpose of Business rides and Personal rides.\n",
        "This may give insight to cab aggregators to decide which sector to introduce new cabs in.**"
      ],
      "id": "3d9a5769"
    },
    {
      "cell_type": "markdown",
      "metadata": {
        "papermill": {
          "duration": 0.085776,
          "end_time": "2021-10-03T14:03:51.959128",
          "exception": false,
          "start_time": "2021-10-03T14:03:51.873352",
          "status": "completed"
        },
        "tags": [],
        "id": "8fb6f6bc"
      },
      "source": [
        "### Where do customers most frequently take cabs?\n",
        "**Frequency of Cab Rides START**"
      ],
      "id": "8fb6f6bc"
    },
    {
      "cell_type": "code",
      "metadata": {
        "execution": {
          "iopub.execute_input": "2021-10-03T14:03:52.202620Z",
          "iopub.status.busy": "2021-10-03T14:03:52.201861Z",
          "iopub.status.idle": "2021-10-03T14:03:52.612393Z",
          "shell.execute_reply": "2021-10-03T14:03:52.612925Z",
          "shell.execute_reply.started": "2021-10-03T11:27:53.736083Z"
        },
        "papermill": {
          "duration": 0.568283,
          "end_time": "2021-10-03T14:03:52.613094",
          "exception": false,
          "start_time": "2021-10-03T14:03:52.044811",
          "status": "completed"
        },
        "tags": [],
        "id": "890fa1b6",
        "outputId": "747ecc7c-0cf3-4bf2-a64b-ad0726cf20db"
      },
      "source": [
        "plt.figure(figsize = (15,4))\n",
        "pd.Series(df['START']).value_counts()[:25].plot(kind=\"bar\")\n",
        "plt.title(\"Cab Rides START Location frequency\")\n",
        "plt.xticks(rotation = 45);"
      ],
      "id": "890fa1b6",
      "execution_count": null,
      "outputs": [
        {
          "data": {
            "image/png": "[encoded data removed]",
            "text/plain": [
              "<Figure size 1080x288 with 1 Axes>"
            ]
          },
          "metadata": {
            "needs_background": "light"
          },
          "output_type": "display_data"
        }
      ]
    },
    {
      "cell_type": "markdown",
      "metadata": {
        "papermill": {
          "duration": 0.085202,
          "end_time": "2021-10-03T14:03:52.784244",
          "exception": false,
          "start_time": "2021-10-03T14:03:52.699042",
          "status": "completed"
        },
        "tags": [],
        "id": "37b1817b"
      },
      "source": [
        "## Frequency of Cab Rides STOP"
      ],
      "id": "37b1817b"
    },
    {
      "cell_type": "code",
      "metadata": {
        "execution": {
          "iopub.execute_input": "2021-10-03T14:03:52.991922Z",
          "iopub.status.busy": "2021-10-03T14:03:52.987371Z",
          "iopub.status.idle": "2021-10-03T14:03:53.368702Z",
          "shell.execute_reply": "2021-10-03T14:03:53.369152Z",
          "shell.execute_reply.started": "2021-10-03T11:27:54.355394Z"
        },
        "papermill": {
          "duration": 0.497128,
          "end_time": "2021-10-03T14:03:53.369323",
          "exception": false,
          "start_time": "2021-10-03T14:03:52.872195",
          "status": "completed"
        },
        "scrolled": true,
        "tags": [],
        "id": "9dca0865",
        "outputId": "cfd122b1-17c5-47b4-bc65-34a777561f07"
      },
      "source": [
        "plt.figure(figsize=(15,4))\n",
        "pd.Series(df['STOP']).value_counts()[:25].plot(kind = \"bar\")\n",
        "plt.title(\"Cab Rides STOP Location frequency\")\n",
        "plt.xticks(rotation = 45);"
      ],
      "id": "9dca0865",
      "execution_count": null,
      "outputs": [
        {
          "data": {
            "image/png": "[encoded data removed]",
            "text/plain": [
              "<Figure size 1080x288 with 1 Axes>"
            ]
          },
          "metadata": {
            "needs_background": "light"
          },
          "output_type": "display_data"
        }
      ]
    },
    {
      "cell_type": "markdown",
      "metadata": {
        "papermill": {
          "duration": 0.087018,
          "end_time": "2021-10-03T14:03:53.543625",
          "exception": false,
          "start_time": "2021-10-03T14:03:53.456607",
          "status": "completed"
        },
        "tags": [],
        "id": "ff040891"
      },
      "source": [
        "### How many miles was earned per category and purpose ?"
      ],
      "id": "ff040891"
    },
    {
      "cell_type": "code",
      "metadata": {
        "execution": {
          "iopub.execute_input": "2021-10-03T14:03:53.721370Z",
          "iopub.status.busy": "2021-10-03T14:03:53.720746Z",
          "iopub.status.idle": "2021-10-03T14:03:54.842051Z",
          "shell.execute_reply": "2021-10-03T14:03:54.842566Z",
          "shell.execute_reply.started": "2021-10-03T11:27:54.779813Z"
        },
        "papermill": {
          "duration": 1.212086,
          "end_time": "2021-10-03T14:03:54.842747",
          "exception": false,
          "start_time": "2021-10-03T14:03:53.630661",
          "status": "completed"
        },
        "tags": [],
        "id": "75796324",
        "outputId": "9bf28265-e9a2-48d8-8e87-be0c66d20c89"
      },
      "source": [
        "g = sns.factorplot(x=\"PURPOSE\", y=\"MILES\", hue=\"CATEGORY\", data=df,\n",
        "                   size=15, kind=\"bar\", palette=\"muted\")\n",
        "#from the graph is clearly seen that the main contributors for miles are:\n",
        "#in Business category: meetings and customer; private: commute and charity \n",
        "g.fig.suptitle('Miles was earned per category and purpose', fontsize= 25)\n",
        "g.fig.set_size_inches(15, 5)\n",
        "g.set_xlabels('PURPOSE', fontsize= 20)\n",
        "g.set_ylabels('MILES', fontsize= 20)"
      ],
      "id": "75796324",
      "execution_count": null,
      "outputs": [
        {
          "data": {
            "text/plain": [
              "<seaborn.axisgrid.FacetGrid at 0x7fa171bdaf90>"
            ]
          },
          "execution_count": 47,
          "metadata": {},
          "output_type": "execute_result"
        },
        {
          "data": {
            "image/png": "[encoded data removed]",
            "text/plain": [
              "<Figure size 1080x360 with 1 Axes>"
            ]
          },
          "metadata": {
            "needs_background": "light"
          },
          "output_type": "display_data"
        }
      ]
    },
    {
      "cell_type": "markdown",
      "metadata": {
        "papermill": {
          "duration": 0.090162,
          "end_time": "2021-10-03T14:03:55.024542",
          "exception": false,
          "start_time": "2021-10-03T14:03:54.934380",
          "status": "completed"
        },
        "tags": [],
        "id": "c654063a"
      },
      "source": [
        "# Conclusion\n",
        "\n",
        "> - Most of the cab rides are within a distance of 31 miles taking about 34 minutes.\n",
        "> - Business Cab rides are not only more in volume, but also in distance travelled.\n",
        "> - Main uses of cab rides are Meal/Entertainment, Customer visit, Meeting, Errand/Supplies.\n",
        "> - Cab traffic is mostly concentrated in 5 cities or localities.\n",
        "> - Ac seasonal pattern of cab ride volume exists, which is highest on December."
      ],
      "id": "c654063a"
    }
  ]
}